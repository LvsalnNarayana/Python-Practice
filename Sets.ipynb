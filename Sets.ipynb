{
 "cells": [
  {
   "cell_type": "markdown",
   "metadata": {},
   "source": [
    "# Set\n",
    "\n",
    "- Sets are used to store multiple items in a single variable.\n",
    "- A set is a collection which is unordered, unchangeable\\*, and unindexed.\n",
    "- Set items can appear in a different order every time you use them, and cannot be referred to by index or key.\n",
    "- Sets cannot have two items with the same value.\n",
    "- A set can contain different data types\n",
    "\n",
    "Note: Set items are unchangeable, but you can remove items and add new items.\n"
   ]
  },
  {
   "cell_type": "code",
   "execution_count": 71,
   "metadata": {},
   "outputs": [
    {
     "name": "stdout",
     "output_type": "stream",
     "text": [
      "{'apple', 'banana', 'cherry'}\n"
     ]
    }
   ],
   "source": [
    "fruits = {\"apple\", \"banana\", \"cherry\"}\n",
    "print(fruits)\n"
   ]
  },
  {
   "cell_type": "markdown",
   "metadata": {},
   "source": [
    "### No Duplicates\n"
   ]
  },
  {
   "cell_type": "code",
   "execution_count": 72,
   "metadata": {},
   "outputs": [
    {
     "name": "stdout",
     "output_type": "stream",
     "text": [
      "{'apple', 'banana', 'cherry'}\n"
     ]
    }
   ],
   "source": [
    "thisset = {\"apple\", \"banana\", \"cherry\", \"apple\"}\n",
    "\n",
    "print(thisset)\n"
   ]
  },
  {
   "cell_type": "markdown",
   "metadata": {},
   "source": [
    "### Length\n"
   ]
  },
  {
   "cell_type": "code",
   "execution_count": 73,
   "metadata": {},
   "outputs": [
    {
     "name": "stdout",
     "output_type": "stream",
     "text": [
      "3\n"
     ]
    }
   ],
   "source": [
    "print(len(fruits))"
   ]
  },
  {
   "cell_type": "markdown",
   "metadata": {},
   "source": [
    "### Access Items\n"
   ]
  },
  {
   "cell_type": "code",
   "execution_count": 74,
   "metadata": {},
   "outputs": [
    {
     "name": "stdout",
     "output_type": "stream",
     "text": [
      "apple\n",
      "banana\n",
      "cherry\n"
     ]
    }
   ],
   "source": [
    "for x in fruits:\n",
    "    print(x)\n"
   ]
  },
  {
   "cell_type": "markdown",
   "metadata": {},
   "source": [
    "### Add Items\n"
   ]
  },
  {
   "cell_type": "code",
   "execution_count": 75,
   "metadata": {},
   "outputs": [
    {
     "name": "stdout",
     "output_type": "stream",
     "text": [
      "{'apple', 'banana', 'cherry', 'orange'}\n"
     ]
    }
   ],
   "source": [
    "fruits.add(\"orange\")\n",
    "\n",
    "print(fruits)\n"
   ]
  },
  {
   "cell_type": "markdown",
   "metadata": {},
   "source": [
    "### Update Items\n"
   ]
  },
  {
   "cell_type": "code",
   "execution_count": 76,
   "metadata": {},
   "outputs": [
    {
     "name": "stdout",
     "output_type": "stream",
     "text": [
      "{'orange', 'banana', 'mango', 'cherry', 'pineapple', 'apple', 'papaya', 'kiwi'}\n"
     ]
    }
   ],
   "source": [
    "tropical = {\"pineapple\", \"mango\", \"papaya\"}\n",
    "# Update changes the original set\n",
    "fruits.update(tropical)\n",
    "\n",
    "mylist = [\"kiwi\", \"orange\"]\n",
    "\n",
    "fruits.update(mylist)\n",
    "\n",
    "print(fruits)\n"
   ]
  },
  {
   "cell_type": "markdown",
   "metadata": {},
   "source": [
    "### Remove Item\n"
   ]
  },
  {
   "cell_type": "code",
   "execution_count": 77,
   "metadata": {},
   "outputs": [
    {
     "name": "stdout",
     "output_type": "stream",
     "text": [
      "{'orange', 'mango', 'cherry', 'pineapple', 'apple', 'papaya', 'kiwi'}\n",
      "{'orange', 'mango', 'cherry', 'pineapple', 'apple', 'papaya'}\n",
      "{'orange', 'mango', 'cherry', 'pineapple', 'apple', 'papaya'}\n",
      "{'orange', 'mango', 'cherry', 'pineapple', 'apple', 'papaya'}\n"
     ]
    }
   ],
   "source": [
    "# Remove will raise error if item is not present\n",
    "fruits.remove(\"banana\")\n",
    "\n",
    "print(fruits)\n",
    "\n",
    "# Discard will not raise error if it is not present\n",
    "fruits.discard(\"kiwi\")\n",
    "print(fruits)\n",
    "print(fruits)\n",
    "\n",
    "# fruits.clear()\n",
    "\n",
    "print(fruits)\n"
   ]
  },
  {
   "cell_type": "markdown",
   "metadata": {},
   "source": [
    "### Union()\n"
   ]
  },
  {
   "cell_type": "code",
   "execution_count": 78,
   "metadata": {},
   "outputs": [
    {
     "name": "stdout",
     "output_type": "stream",
     "text": [
      "{'orange', 1, 2, 'mango', 'pineapple', 3, 'apple', 'cherry', 'papaya'}\n",
      "{'orange', 1, 2, 'mango', 'pineapple', 3, 'apple', 'cherry', 'papaya'}\n"
     ]
    }
   ],
   "source": [
    "set2 = {1, 2, 3}\n",
    "# Union() does not change the original set\n",
    "set3 = fruits.union(set2)\n",
    "print(set3)\n",
    "print(set3)"
   ]
  },
  {
   "cell_type": "markdown",
   "metadata": {},
   "source": [
    "### intersection()"
   ]
  },
  {
   "cell_type": "code",
   "execution_count": 79,
   "metadata": {},
   "outputs": [
    {
     "name": "stdout",
     "output_type": "stream",
     "text": [
      "set()\n"
     ]
    }
   ],
   "source": [
    "set3 = fruits.intersection(set2)\n",
    "print(set3)"
   ]
  },
  {
   "cell_type": "markdown",
   "metadata": {},
   "source": [
    "### difference()"
   ]
  },
  {
   "cell_type": "code",
   "execution_count": 80,
   "metadata": {},
   "outputs": [
    {
     "name": "stdout",
     "output_type": "stream",
     "text": [
      "{'orange', 'pineapple', 'mango', 'apple', 'cherry', 'papaya'}\n"
     ]
    }
   ],
   "source": [
    "set3 = fruits.difference(set2)\n",
    "print(set3)"
   ]
  },
  {
   "cell_type": "markdown",
   "metadata": {},
   "source": [
    "### difference_update()"
   ]
  },
  {
   "cell_type": "code",
   "execution_count": 81,
   "metadata": {},
   "outputs": [
    {
     "name": "stdout",
     "output_type": "stream",
     "text": [
      "{'orange', 'mango', 'cherry', 'pineapple', 'apple', 'papaya'}\n"
     ]
    }
   ],
   "source": [
    "fruits.difference_update(set2)\n",
    "\n",
    "print(fruits)"
   ]
  }
 ],
 "metadata": {
  "kernelspec": {
   "display_name": "Python 3",
   "language": "python",
   "name": "python3"
  },
  "language_info": {
   "codemirror_mode": {
    "name": "ipython",
    "version": 3
   },
   "file_extension": ".py",
   "mimetype": "text/x-python",
   "name": "python",
   "nbconvert_exporter": "python",
   "pygments_lexer": "ipython3",
   "version": "3.12.2"
  }
 },
 "nbformat": 4,
 "nbformat_minor": 2
}
