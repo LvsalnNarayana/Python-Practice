{
 "cells": [
  {
   "cell_type": "markdown",
   "metadata": {},
   "source": [
    "# Integer Typecasting"
   ]
  },
  {
   "cell_type": "code",
   "execution_count": 1,
   "metadata": {},
   "outputs": [
    {
     "name": "stdout",
     "output_type": "stream",
     "text": [
      "1\n",
      "2\n",
      "3\n"
     ]
    }
   ],
   "source": [
    "int_x = int(1)  # x will be 1\n",
    "print(int_x)\n",
    "int_y = int(2.8)  # y will be 2\n",
    "print(int_y)\n",
    "int_z = int(\"3\")  # z will be 3\n",
    "print(int_z)"
   ]
  },
  {
   "cell_type": "markdown",
   "metadata": {},
   "source": [
    "# Float Typecasting"
   ]
  },
  {
   "cell_type": "code",
   "execution_count": 2,
   "metadata": {},
   "outputs": [
    {
     "name": "stdout",
     "output_type": "stream",
     "text": [
      "1.0\n",
      "2.8\n",
      "3.0\n",
      "4.2\n"
     ]
    }
   ],
   "source": [
    "float_x = float(1)  # x will be 1.0\n",
    "print(float_x)\n",
    "float_y = float(2.8)  # y will be 2.8\n",
    "print(float_y)\n",
    "float_z = float(\"3\")  # z will be 3.0\n",
    "print(float_z)\n",
    "float_w = float(\"4.2\")  # w will be 4.2\n",
    "print(float_w)"
   ]
  },
  {
   "cell_type": "markdown",
   "metadata": {},
   "source": [
    "# String Typecasting"
   ]
  },
  {
   "cell_type": "code",
   "execution_count": 3,
   "metadata": {},
   "outputs": [
    {
     "name": "stdout",
     "output_type": "stream",
     "text": [
      "s1\n",
      "2\n",
      "3.0\n"
     ]
    }
   ],
   "source": [
    "string_x = str(\"s1\")  # x will be 's1'\n",
    "print(string_x)\n",
    "string_y = str(2)  # y will be '2'\n",
    "print(string_y)\n",
    "string_z = str(3.0)  # z will be '3.0'\n",
    "print(string_z)"
   ]
  }
 ],
 "metadata": {
  "kernelspec": {
   "display_name": "Python 3",
   "language": "python",
   "name": "python3"
  },
  "language_info": {
   "codemirror_mode": {
    "name": "ipython",
    "version": 3
   },
   "file_extension": ".py",
   "mimetype": "text/x-python",
   "name": "python",
   "nbconvert_exporter": "python",
   "pygments_lexer": "ipython3",
   "version": "3.12.2"
  }
 },
 "nbformat": 4,
 "nbformat_minor": 2
}
