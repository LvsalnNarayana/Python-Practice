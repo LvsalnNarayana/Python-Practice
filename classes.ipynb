{
 "cells": [
  {
   "cell_type": "markdown",
   "metadata": {},
   "source": [
    "# Classes and Objects\n",
    "\n",
    "- Python is an object oriented programming language.\n",
    "\n",
    "- Almost everything in Python is an object, with its properties and methods.\n",
    "\n",
    "- A Class is like an object constructor, or a \"blueprint\" for creating objects.\n"
   ]
  },
  {
   "cell_type": "code",
   "execution_count": 61,
   "metadata": {},
   "outputs": [],
   "source": [
    "class Person:\n",
    "    def __init__(self, name, age, location):\n",
    "        self.name = name\n",
    "        self.age = age\n",
    "        self.location = location\n",
    "\n",
    "    def getObj(self):\n",
    "        return dict({\"name\": self.name, \"age\": self.age, \"location\": self.location})\n",
    "\n",
    "\n",
    "\n",
    "\n",
    "\n"
   ]
  },
  {
   "cell_type": "code",
   "execution_count": 62,
   "metadata": {},
   "outputs": [
    {
     "name": "stdout",
     "output_type": "stream",
     "text": [
      "{'name': 'Jane', 'age': 32, 'location': 'London', 'profession': 'Senior Backend Developer'}\n"
     ]
    }
   ],
   "source": [
    "\n",
    "class Coder(Person):\n",
    "    def __init__(self, name, age, location, profession):\n",
    "        super().__init__(name, age, location)\n",
    "        self.profession = profession\n",
    "\n",
    "    def getObj(self):\n",
    "        obj = super().getObj()\n",
    "        # Update the dictionary with the profession\n",
    "        obj.update({\"profession\": self.profession})\n",
    "        # Return the updated dictionary\n",
    "        return obj\n",
    "\n",
    "coder = Coder(\n",
    "    name=\"Jane\", age=32, location=\"London\", profession=\"Senior Backend Developer\"\n",
    ")\n",
    "\n",
    "\n",
    "print(coder.getObj())\n"
   ]
  },
  {
   "cell_type": "code",
   "execution_count": 63,
   "metadata": {},
   "outputs": [
    {
     "name": "stdout",
     "output_type": "stream",
     "text": [
      "{'name': 'Jhon', 'age': 20, 'location': 'New York', 'hobbies': ['coding', 'hiking', 'painting']}\n",
      "coding\n",
      "hiking\n",
      "painting\n",
      "No more hobbies to iterate through.\n",
      "User(name='Jhon', age=20, place='New York', hobbies=['coding', 'hiking', 'painting'])\n",
      "Calling the user Jhon with age 20 located at New York and hobbies coding, hiking, painting\n",
      "['__call__', '__class__', '__delattr__', '__dict__', '__dir__', '__doc__', '__eq__', '__format__', '__ge__', '__getattribute__', '__getstate__', '__gt__', '__hash__', '__init__', '__init_subclass__', '__iter__', '__le__', '__lt__', '__module__', '__ne__', '__new__', '__next__', '__reduce__', '__reduce_ex__', '__repr__', '__setattr__', '__sizeof__', '__str__', '__subclasshook__', '__weakref__', '_index', 'age', 'getObj', 'hobbies', 'location', 'name']\n"
     ]
    }
   ],
   "source": [
    "class Student(Person):\n",
    "    def __init__(self, name, age, location, hobbies):\n",
    "        super().__init__(name, age, location)\n",
    "        self.hobbies = hobbies\n",
    "        # self._index = 0\n",
    "\n",
    "    def getObj(self):\n",
    "        obj = super().getObj()\n",
    "        # Update the dictionary with the profession\n",
    "        obj.update({\"hobbies\": self.hobbies})\n",
    "        # Return the updated dictionary\n",
    "        return obj\n",
    "\n",
    "    def __iter__(self):\n",
    "        self._index = 0\n",
    "        return self\n",
    "\n",
    "    def __repr__(self):\n",
    "        return (\n",
    "            f\"User(name={self.name!r}, age={self.age!r}, place={self.location!r}, \"\n",
    "            f\"hobbies={self.hobbies!r})\"\n",
    "        )\n",
    "\n",
    "    def __next__(self):\n",
    "        if self._index < len(self.hobbies):\n",
    "            result = self.hobbies[self._index]\n",
    "            self._index += 1\n",
    "            return result\n",
    "        else:\n",
    "            raise StopIteration(\"No more hobbies to iterate through.\")\n",
    "\n",
    "    def __call__(self):\n",
    "        print(\n",
    "            f\"Calling the user {self.name} with age {self.age} located at {self.location} and hobbies {', '.join(self.hobbies)}\"\n",
    "        )\n",
    "\n",
    "\n",
    "student = Student(\n",
    "    name=\"Jhon\", age=20, location=\"New York\", hobbies=[\"coding\", \"hiking\", \"painting\"]\n",
    ")\n",
    "print(student.getObj())\n",
    "\n",
    "student_hobbies = iter(student)\n",
    "\n",
    "while True:\n",
    "    try:\n",
    "        hobby = next(student_hobbies)\n",
    "        print(hobby)\n",
    "    except StopIteration as e:\n",
    "        print(e)  # This prints only the error message without the traceback\n",
    "        break\n",
    "\n",
    "print(student)\n",
    "student()\n",
    "\n",
    "print(dir(student))\n"
   ]
  }
 ],
 "metadata": {
  "kernelspec": {
   "display_name": "Python 3",
   "language": "python",
   "name": "python3"
  },
  "language_info": {
   "codemirror_mode": {
    "name": "ipython",
    "version": 3
   },
   "file_extension": ".py",
   "mimetype": "text/x-python",
   "name": "python",
   "nbconvert_exporter": "python",
   "pygments_lexer": "ipython3",
   "version": "3.12.2"
  }
 },
 "nbformat": 4,
 "nbformat_minor": 2
}
