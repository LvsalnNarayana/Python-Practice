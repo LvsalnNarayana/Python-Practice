{
 "cells": [
  {
   "cell_type": "markdown",
   "metadata": {},
   "source": [
    "# Pattern 1\n"
   ]
  },
  {
   "cell_type": "code",
   "execution_count": 10,
   "metadata": {},
   "outputs": [
    {
     "name": "stdout",
     "output_type": "stream",
     "text": [
      "* * * * * \n",
      "\n",
      "* * * * * \n",
      "\n",
      "* * * * * \n",
      "\n",
      "* * * * * \n",
      "\n",
      "* * * * * \n",
      "\n"
     ]
    }
   ],
   "source": [
    "def pattern_1(n):\n",
    "    for i in range(1, n):\n",
    "        for j in range(1, n):\n",
    "            print(\"* \", end=\"\")\n",
    "        print(\"\\n\")\n",
    "\n",
    "\n",
    "pattern_1(6)\n"
   ]
  },
  {
   "cell_type": "markdown",
   "metadata": {},
   "source": [
    "# Pattern 2\n"
   ]
  },
  {
   "cell_type": "code",
   "execution_count": 11,
   "metadata": {},
   "outputs": [
    {
     "name": "stdout",
     "output_type": "stream",
     "text": [
      "* * * * * * * \n",
      "\n",
      "*           * \n",
      "\n",
      "*           * \n",
      "\n",
      "*           * \n",
      "\n",
      "*           * \n",
      "\n",
      "*           * \n",
      "\n",
      "* * * * * * * \n",
      "\n"
     ]
    }
   ],
   "source": [
    "def pattern_2(n):\n",
    "    for i in range(1, n):\n",
    "        for j in range(1, n):\n",
    "            if i == 1 or i == n - 1:\n",
    "                print(\"* \", end=\"\")\n",
    "            else:\n",
    "                if j == 1 or j == n - 1:\n",
    "                    print(\"* \", end=\"\")\n",
    "                else:\n",
    "                    print(\"  \", end=\"\")\n",
    "        print(\"\\n\")\n",
    "\n",
    "\n",
    "pattern_2(8)\n"
   ]
  },
  {
   "cell_type": "markdown",
   "metadata": {},
   "source": [
    "# Pattern 3\n"
   ]
  },
  {
   "cell_type": "code",
   "execution_count": 12,
   "metadata": {},
   "outputs": [
    {
     "name": "stdout",
     "output_type": "stream",
     "text": [
      "  * * * * * * * \n",
      "\n",
      "    * * * * * * * \n",
      "\n",
      "      * * * * * * * \n",
      "\n",
      "        * * * * * * * \n",
      "\n",
      "          * * * * * * * \n",
      "\n",
      "            * * * * * * * \n",
      "\n",
      "              * * * * * * * \n",
      "\n"
     ]
    }
   ],
   "source": [
    "def pattern_3(n):\n",
    "    for i in range(1, n):\n",
    "        for j in range(1, n + i):\n",
    "            if j <= i:\n",
    "                print(\"  \", end=\"\")\n",
    "            else:\n",
    "                print(\"* \", end=\"\")\n",
    "        print(\"\\n\")\n",
    "\n",
    "\n",
    "pattern_3(8)\n"
   ]
  },
  {
   "cell_type": "markdown",
   "metadata": {},
   "source": [
    "# Pattern 4\n"
   ]
  },
  {
   "cell_type": "code",
   "execution_count": 13,
   "metadata": {},
   "outputs": [
    {
     "name": "stdout",
     "output_type": "stream",
     "text": [
      "          * * * * * * \n",
      "\n",
      "        * * * * * * \n",
      "\n",
      "      * * * * * * \n",
      "\n",
      "    * * * * * * \n",
      "\n",
      "  * * * * * * \n",
      "\n",
      "* * * * * * \n",
      "\n"
     ]
    }
   ],
   "source": [
    "def pattern_4(n):\n",
    "    for i in range(0, n):\n",
    "        for j in range(((n + n - 1) - i), 0, -1):\n",
    "            if j > n:\n",
    "                print(\"  \", end=\"\")\n",
    "            else:\n",
    "                print(\"* \", end=\"\")\n",
    "        print(\"\\n\")\n",
    "\n",
    "\n",
    "pattern_4(6)\n"
   ]
  },
  {
   "cell_type": "markdown",
   "metadata": {},
   "source": [
    "# Pattern 5\n"
   ]
  },
  {
   "cell_type": "code",
   "execution_count": 14,
   "metadata": {},
   "outputs": [
    {
     "name": "stdout",
     "output_type": "stream",
     "text": [
      "* \n",
      "* * \n",
      "* * * \n",
      "* * * * \n",
      "* * * * * \n",
      "* * * * * * \n",
      "* * * * * * * \n",
      "* * * * * * * * \n",
      "* * * * * * * * * \n",
      "* * * * * * * * * * \n"
     ]
    }
   ],
   "source": [
    "def pattern_5(n):\n",
    "    for i in range(0, n):\n",
    "        for j in range(0, i + 1):\n",
    "            print(\"* \", end=\"\")\n",
    "        print()\n",
    "\n",
    "\n",
    "pattern_5(10)\n"
   ]
  },
  {
   "cell_type": "markdown",
   "metadata": {},
   "source": [
    "# Pattern 6\n"
   ]
  },
  {
   "cell_type": "code",
   "execution_count": 15,
   "metadata": {},
   "outputs": [
    {
     "name": "stdout",
     "output_type": "stream",
     "text": [
      "* * * * * * * * * * \n",
      "  * * * * * * * * * \n",
      "    * * * * * * * * \n",
      "      * * * * * * * \n",
      "        * * * * * * \n",
      "          * * * * * \n",
      "            * * * * \n",
      "              * * * \n",
      "                * * \n",
      "                  * \n"
     ]
    }
   ],
   "source": [
    "def pattern_6(n):\n",
    "    for i in range(0, n):\n",
    "        for j in range(n, 0, -1):\n",
    "            if j <= n - i:\n",
    "                print(\"* \", end=\"\")\n",
    "            else:\n",
    "                print(\"  \", end=\"\")\n",
    "        print()\n",
    "\n",
    "\n",
    "pattern_6(10)\n"
   ]
  },
  {
   "cell_type": "markdown",
   "metadata": {},
   "source": [
    "# Pattern 7\n"
   ]
  },
  {
   "cell_type": "code",
   "execution_count": 16,
   "metadata": {},
   "outputs": [
    {
     "name": "stdout",
     "output_type": "stream",
     "text": [
      "                                      *                                       \n",
      "                                    * * *                                     \n",
      "                                  * * * * *                                   \n",
      "                                * * * * * * *                                 \n",
      "                              * * * * * * * * *                               \n",
      "                            * * * * * * * * * * *                             \n",
      "                          * * * * * * * * * * * * *                           \n",
      "                        * * * * * * * * * * * * * * *                         \n",
      "                      * * * * * * * * * * * * * * * * *                       \n",
      "                    * * * * * * * * * * * * * * * * * * *                     \n",
      "                  * * * * * * * * * * * * * * * * * * * * *                   \n",
      "                * * * * * * * * * * * * * * * * * * * * * * *                 \n",
      "              * * * * * * * * * * * * * * * * * * * * * * * * *               \n",
      "            * * * * * * * * * * * * * * * * * * * * * * * * * * *             \n",
      "          * * * * * * * * * * * * * * * * * * * * * * * * * * * * *           \n",
      "        * * * * * * * * * * * * * * * * * * * * * * * * * * * * * * *         \n",
      "      * * * * * * * * * * * * * * * * * * * * * * * * * * * * * * * * *       \n",
      "    * * * * * * * * * * * * * * * * * * * * * * * * * * * * * * * * * * *     \n",
      "  * * * * * * * * * * * * * * * * * * * * * * * * * * * * * * * * * * * * *   \n",
      "* * * * * * * * * * * * * * * * * * * * * * * * * * * * * * * * * * * * * * * \n"
     ]
    }
   ],
   "source": [
    "def pattern_7(n):\n",
    "    for i in range(0, n):\n",
    "        for j in range(0, n - i - 1):\n",
    "            print(\"  \", end=\"\")\n",
    "        for j in range(0, (2 * i + 1)):\n",
    "            print(\"* \", end=\"\")\n",
    "        for j in range(0, n - i - 1):\n",
    "            print(\"  \", end=\"\")\n",
    "        print()\n",
    "\n",
    "\n",
    "pattern_7(20)\n"
   ]
  },
  {
   "cell_type": "markdown",
   "metadata": {},
   "source": [
    "# Pattern 8\n"
   ]
  },
  {
   "cell_type": "code",
   "execution_count": 17,
   "metadata": {},
   "outputs": [
    {
     "name": "stdout",
     "output_type": "stream",
     "text": [
      "                                      *                                       \n",
      "                                    *   *                                     \n",
      "                                  *       *                                   \n",
      "                                *           *                                 \n",
      "                              *               *                               \n",
      "                            *                   *                             \n",
      "                          *                       *                           \n",
      "                        *                           *                         \n",
      "                      *                               *                       \n",
      "                    *                                   *                     \n",
      "                  *                                       *                   \n",
      "                *                                           *                 \n",
      "              *                                               *               \n",
      "            *                                                   *             \n",
      "          *                                                       *           \n",
      "        *                                                           *         \n",
      "      *                                                               *       \n",
      "    *                                                                   *     \n",
      "  *                                                                       *   \n",
      "* * * * * * * * * * * * * * * * * * * * * * * * * * * * * * * * * * * * * * * \n"
     ]
    }
   ],
   "source": [
    "def pattern_8(n):\n",
    "    for i in range(0, n):\n",
    "        for j in range(0, n - i - 1):\n",
    "            print(\"  \", end=\"\")\n",
    "        for j in range(0, (2 * i + 1)):\n",
    "            if i == n - 1:\n",
    "                print(\"* \", end=\"\")\n",
    "            else:\n",
    "                if j == 0 or j == (2 * i):\n",
    "                    print(\"* \", end=\"\")\n",
    "                else:\n",
    "                    print(\"  \", end=\"\")\n",
    "        for j in range(0, n - i - 1):\n",
    "            print(\"  \", end=\"\")\n",
    "        print()\n",
    "\n",
    "\n",
    "pattern_8(20)\n"
   ]
  },
  {
   "cell_type": "markdown",
   "metadata": {},
   "source": [
    "# Pattern 9\n"
   ]
  },
  {
   "cell_type": "code",
   "execution_count": 18,
   "metadata": {},
   "outputs": [
    {
     "ename": "TypeError",
     "evalue": "unsupported operand type(s) for -: 'str' and 'int'",
     "output_type": "error",
     "traceback": [
      "\u001b[0;31m---------------------------------------------------------------------------\u001b[0m",
      "\u001b[0;31mTypeError\u001b[0m                                 Traceback (most recent call last)",
      "Cell \u001b[0;32mIn[18], line 10\u001b[0m\n\u001b[1;32m      6\u001b[0m             \u001b[38;5;28mprint\u001b[39m(\u001b[38;5;124m\"\u001b[39m\u001b[38;5;124m* \u001b[39m\u001b[38;5;124m\"\u001b[39m \u001b[38;5;241m*\u001b[39m \u001b[38;5;241m2\u001b[39m \u001b[38;5;241m*\u001b[39m n \u001b[38;5;241m-\u001b[39m (\u001b[38;5;241m2\u001b[39m \u001b[38;5;241m*\u001b[39m i \u001b[38;5;241m+\u001b[39m \u001b[38;5;241m1\u001b[39m), end\u001b[38;5;241m=\u001b[39m\u001b[38;5;124m\"\u001b[39m\u001b[38;5;124m\"\u001b[39m)\n\u001b[1;32m      7\u001b[0m         \u001b[38;5;28mprint\u001b[39m()\n\u001b[0;32m---> 10\u001b[0m \u001b[43mpattern_9\u001b[49m\u001b[43m(\u001b[49m\u001b[38;5;241;43m8\u001b[39;49m\u001b[43m)\u001b[49m\n",
      "Cell \u001b[0;32mIn[18], line 6\u001b[0m, in \u001b[0;36mpattern_9\u001b[0;34m(n)\u001b[0m\n\u001b[1;32m      4\u001b[0m     \u001b[38;5;28mprint\u001b[39m(\u001b[38;5;124m\"\u001b[39m\u001b[38;5;124m  \u001b[39m\u001b[38;5;124m\"\u001b[39m \u001b[38;5;241m*\u001b[39m i, end\u001b[38;5;241m=\u001b[39m\u001b[38;5;124m\"\u001b[39m\u001b[38;5;124m\"\u001b[39m)\n\u001b[1;32m      5\u001b[0m \u001b[38;5;28;01mfor\u001b[39;00m j \u001b[38;5;129;01min\u001b[39;00m \u001b[38;5;28mrange\u001b[39m(\u001b[38;5;241m2\u001b[39m \u001b[38;5;241m*\u001b[39m n \u001b[38;5;241m-\u001b[39m (\u001b[38;5;241m2\u001b[39m \u001b[38;5;241m*\u001b[39m i \u001b[38;5;241m+\u001b[39m \u001b[38;5;241m1\u001b[39m), \u001b[38;5;241m0\u001b[39m, \u001b[38;5;241m-\u001b[39m\u001b[38;5;241m1\u001b[39m):\n\u001b[0;32m----> 6\u001b[0m     \u001b[38;5;28mprint\u001b[39m(\u001b[38;5;124;43m\"\u001b[39;49m\u001b[38;5;124;43m* \u001b[39;49m\u001b[38;5;124;43m\"\u001b[39;49m\u001b[43m \u001b[49m\u001b[38;5;241;43m*\u001b[39;49m\u001b[43m \u001b[49m\u001b[38;5;241;43m2\u001b[39;49m\u001b[43m \u001b[49m\u001b[38;5;241;43m*\u001b[39;49m\u001b[43m \u001b[49m\u001b[43mn\u001b[49m\u001b[43m \u001b[49m\u001b[38;5;241;43m-\u001b[39;49m\u001b[43m \u001b[49m\u001b[43m(\u001b[49m\u001b[38;5;241;43m2\u001b[39;49m\u001b[43m \u001b[49m\u001b[38;5;241;43m*\u001b[39;49m\u001b[43m \u001b[49m\u001b[43mi\u001b[49m\u001b[43m \u001b[49m\u001b[38;5;241;43m+\u001b[39;49m\u001b[43m \u001b[49m\u001b[38;5;241;43m1\u001b[39;49m\u001b[43m)\u001b[49m, end\u001b[38;5;241m=\u001b[39m\u001b[38;5;124m\"\u001b[39m\u001b[38;5;124m\"\u001b[39m)\n\u001b[1;32m      7\u001b[0m \u001b[38;5;28mprint\u001b[39m()\n",
      "\u001b[0;31mTypeError\u001b[0m: unsupported operand type(s) for -: 'str' and 'int'"
     ]
    }
   ],
   "source": [
    "def pattern_9(n):\n",
    "    for i in range(0, n):\n",
    "        for j in range(0, i):\n",
    "            print(\"  \" * i, end=\"\")\n",
    "        for j in range(2 * n - (2 * i + 1), 0, -1):\n",
    "            print(\"* \" * 2 * n - (2 * i + 1), end=\"\")\n",
    "        print()\n",
    "\n",
    "\n",
    "pattern_9(8)\n"
   ]
  },
  {
   "cell_type": "markdown",
   "metadata": {},
   "source": [
    "# Pattern 10\n"
   ]
  },
  {
   "cell_type": "code",
   "execution_count": null,
   "metadata": {},
   "outputs": [
    {
     "name": "stdout",
     "output_type": "stream",
     "text": [
      "* * * * * * * * * * * * * * * \n",
      "  *                       * \n",
      "    *                   * \n",
      "      *               * \n",
      "        *           * \n",
      "          *       * \n",
      "            *   * \n",
      "              * \n"
     ]
    }
   ],
   "source": [
    "def pattern_10(n):\n",
    "    for i in range(0, n):\n",
    "        for j in range(0, i):\n",
    "            print(\"  \", end=\"\")\n",
    "        for j in range(2 * n - (2 * i + 1), 0, -1):\n",
    "            if i == 0:\n",
    "                print(\"* \", end=\"\")\n",
    "            else:\n",
    "                if j == 2 * n - (2 * i + 1) or j == 1:\n",
    "                    print(\"* \", end=\"\")\n",
    "                else:\n",
    "                    print(\"  \", end=\"\")\n",
    "        print()\n",
    "\n",
    "\n",
    "pattern_10(8)\n"
   ]
  },
  {
   "cell_type": "markdown",
   "metadata": {},
   "source": [
    "# Pattern 11\n"
   ]
  },
  {
   "cell_type": "code",
   "execution_count": null,
   "metadata": {},
   "outputs": [
    {
     "name": "stdout",
     "output_type": "stream",
     "text": [
      "* \n",
      "* * \n",
      "* * * \n",
      "* * * * \n",
      "* * * * * \n",
      "* * * * * * \n",
      "* * * * * * * \n",
      "* * * * * * \n",
      "* * * * * \n",
      "* * * * \n",
      "* * * \n",
      "* * \n",
      "* \n",
      "\n"
     ]
    }
   ],
   "source": [
    "def pattern_11(n):\n",
    "    rows = 2 * n + 1\n",
    "    for i in range(1, rows):\n",
    "        if i <= n:\n",
    "            for j in range(1, i + 1):\n",
    "                print(\"*\", end=\" \")\n",
    "        else:\n",
    "            for j in range(1, rows - i):\n",
    "                print(\"*\", end=\" \")\n",
    "        print()\n",
    "    pass\n",
    "\n",
    "\n",
    "pattern_11(7)\n"
   ]
  },
  {
   "cell_type": "markdown",
   "metadata": {},
   "source": [
    "# Pattern 12\n"
   ]
  },
  {
   "cell_type": "code",
   "execution_count": null,
   "metadata": {},
   "outputs": [
    {
     "name": "stdout",
     "output_type": "stream",
     "text": [
      "            * \n",
      "          * * \n",
      "        * * * \n",
      "      * * * * \n",
      "    * * * * * \n",
      "  * * * * * * \n",
      "* * * * * * * \n",
      "  * * * * * * \n",
      "    * * * * * \n",
      "      * * * * \n",
      "        * * * \n",
      "          * * \n",
      "            * \n",
      "* \n",
      "* * \n",
      "* * * \n",
      "* * * * \n",
      "* * * * * \n",
      "* * * * * * \n",
      "* * * * * * * \n",
      "* * * * * * \n",
      "* * * * * \n",
      "* * * * \n",
      "* * * \n",
      "* * \n",
      "* \n",
      "\n"
     ]
    }
   ],
   "source": [
    "def pattern_12(n):\n",
    "    rows = 2 * n\n",
    "    for i in range(1, rows):\n",
    "        if i <= n - 1:\n",
    "            for j in range(1, n + 1):\n",
    "                if j >= n - i + 1:\n",
    "                    print(\"*\", end=\" \")\n",
    "                else:\n",
    "                    print(\" \", end=\" \")\n",
    "        else:\n",
    "            for j in range(1, n + 1):\n",
    "                if j >= i - n + 1:\n",
    "                    print(\"*\", end=\" \")\n",
    "                else:\n",
    "                    print(\" \", end=\" \")\n",
    "        print()\n",
    "    pass\n",
    "\n",
    "\n",
    "pattern_12(7)\n"
   ]
  }
 ],
 "metadata": {
  "kernelspec": {
   "display_name": "Python 3",
   "language": "python",
   "name": "python3"
  },
  "language_info": {
   "codemirror_mode": {
    "name": "ipython",
    "version": 3
   },
   "file_extension": ".py",
   "mimetype": "text/x-python",
   "name": "python",
   "nbconvert_exporter": "python",
   "pygments_lexer": "ipython3",
   "version": "3.12.2"
  }
 },
 "nbformat": 4,
 "nbformat_minor": 2
}
