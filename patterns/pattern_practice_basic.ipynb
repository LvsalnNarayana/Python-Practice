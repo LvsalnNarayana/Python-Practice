{
 "cells": [
  {
   "cell_type": "markdown",
   "metadata": {},
   "source": [
    "# Pattern - 1\n"
   ]
  },
  {
   "cell_type": "code",
   "execution_count": 1,
   "metadata": {},
   "outputs": [
    {
     "name": "stdout",
     "output_type": "stream",
     "text": [
      "* \n",
      "* * \n",
      "* * * \n",
      "* * * * \n",
      "* * * * * \n",
      "* * * * * * \n",
      "* * * * * * * \n"
     ]
    }
   ],
   "source": [
    "def pattern_1(input):\n",
    "    rows: int = input\n",
    "    for i in range(rows):\n",
    "        for j in range(i + 1):\n",
    "            print(\"*\", end=\" \")\n",
    "        print()\n",
    "\n",
    "\n",
    "pattern_1(7)"
   ]
  },
  {
   "cell_type": "markdown",
   "metadata": {},
   "source": [
    "# Pattern - 2\n"
   ]
  },
  {
   "cell_type": "code",
   "execution_count": 2,
   "metadata": {},
   "outputs": [
    {
     "name": "stdout",
     "output_type": "stream",
     "text": [
      "            * \n",
      "          * * \n",
      "        * * * \n",
      "      * * * * \n",
      "    * * * * * \n",
      "  * * * * * * \n",
      "* * * * * * * \n"
     ]
    }
   ],
   "source": [
    "def pattern_2(input):\n",
    "    rows: int = input\n",
    "    for i in range(rows):\n",
    "        for j in range(rows):\n",
    "            if j >= rows - i - 1:\n",
    "                print(\"*\", end=\" \")\n",
    "            else:\n",
    "                print(\" \", end=\" \")\n",
    "        print()\n",
    "\n",
    "\n",
    "pattern_2(7)"
   ]
  },
  {
   "cell_type": "markdown",
   "metadata": {},
   "source": [
    "# Pattern - 3\n"
   ]
  },
  {
   "cell_type": "code",
   "execution_count": 3,
   "metadata": {},
   "outputs": [
    {
     "name": "stdout",
     "output_type": "stream",
     "text": [
      "* * * * * * * \n",
      "* * * * * *   \n",
      "* * * * *     \n",
      "* * * *       \n",
      "* * *         \n",
      "* *           \n",
      "*             \n"
     ]
    }
   ],
   "source": [
    "def pattern_3(input):\n",
    "    rows: int = input\n",
    "    for i in range(rows):\n",
    "        for j in range(rows):\n",
    "            if j <= rows - i - 1:\n",
    "                print(\"*\", end=\" \")\n",
    "            else:\n",
    "                print(\" \", end=\" \")\n",
    "        print()\n",
    "\n",
    "\n",
    "pattern_3(7)"
   ]
  },
  {
   "cell_type": "markdown",
   "metadata": {},
   "source": [
    "# Pattern - 4\n"
   ]
  },
  {
   "cell_type": "code",
   "execution_count": 4,
   "metadata": {},
   "outputs": [
    {
     "name": "stdout",
     "output_type": "stream",
     "text": [
      "* * * * * * * \n",
      "  * * * * * * \n",
      "    * * * * * \n",
      "      * * * * \n",
      "        * * * \n",
      "          * * \n",
      "            * \n"
     ]
    }
   ],
   "source": [
    "def pattern_4(input):\n",
    "    rows: int = input\n",
    "    for i in range(rows):\n",
    "        for j in range(rows):\n",
    "            if j >= i:\n",
    "                print(\"*\", end=\" \")\n",
    "            else:\n",
    "                print(\" \", end=\" \")\n",
    "        print()\n",
    "\n",
    "\n",
    "pattern_4(7)"
   ]
  },
  {
   "cell_type": "markdown",
   "metadata": {},
   "source": [
    "# Pattern - 5\n"
   ]
  },
  {
   "cell_type": "code",
   "execution_count": 5,
   "metadata": {},
   "outputs": [
    {
     "name": "stdout",
     "output_type": "stream",
     "text": [
      "                * \n",
      "              * * * \n",
      "            * * * * * \n",
      "          * * * * * * * \n",
      "        * * * * * * * * * \n",
      "      * * * * * * * * * * * \n",
      "    * * * * * * * * * * * * * \n",
      "  * * * * * * * * * * * * * * * \n"
     ]
    }
   ],
   "source": [
    "def pattern_5(input):\n",
    "    rows: int = input\n",
    "    for i in range(rows):\n",
    "        # For spaces in the start\n",
    "        for j in range(rows):\n",
    "            if j < rows - i:\n",
    "                print(\" \", end=\" \")\n",
    "        # For triangle\n",
    "        \"\"\"\n",
    "        For first half of the triangle\n",
    "        for j in range(i + 1):\n",
    "            print(\"*\", end=\" \")\n",
    "            \n",
    "        \n",
    "        For second half of the triangle\n",
    "        for j in range(i):\n",
    "            print(\"*\", end=\" \")\n",
    "            \n",
    "        These are combined to form 2i+1 stars\n",
    "        \"\"\"\n",
    "        for j in range(2 * i + 1):\n",
    "            print(\"*\", end=\" \")\n",
    "        print()\n",
    "\n",
    "\n",
    "pattern_5(8)"
   ]
  },
  {
   "cell_type": "markdown",
   "metadata": {},
   "source": [
    "# Pattern - 6\n"
   ]
  },
  {
   "cell_type": "code",
   "execution_count": 6,
   "metadata": {},
   "outputs": [
    {
     "name": "stdout",
     "output_type": "stream",
     "text": [
      "  * * * * * * * * * * * * * * * \n",
      "    * * * * * * * * * * * * * \n",
      "      * * * * * * * * * * * \n",
      "        * * * * * * * * * \n",
      "          * * * * * * * \n",
      "            * * * * * \n",
      "              * * * \n",
      "                * \n"
     ]
    }
   ],
   "source": [
    "def pattern_6(input):\n",
    "    rows: int = input\n",
    "    for i in range(rows):\n",
    "        # For spaces in the start\n",
    "        for j in range(i + 1):\n",
    "            print(\" \", end=\" \")\n",
    "        # For triangle\n",
    "        \"\"\"\n",
    "        For first half of the triangle\n",
    "        for j in range((rows - (i + 1)) + 1):\n",
    "            print(\"*\", end=\" \")\n",
    "\n",
    "        For second half of the triangle\n",
    "        for j in range((rows - (i + 1))):\n",
    "            print(\"*\", end=\" \")\n",
    "            \n",
    "        These are combined to form 2i+1 stars\n",
    "        \"\"\"\n",
    "        for j in range(2 * (rows - (i + 1)) + 1):\n",
    "            print(\"*\", end=\" \")\n",
    "        print()\n",
    "\n",
    "\n",
    "pattern_6(8)"
   ]
  },
  {
   "cell_type": "markdown",
   "metadata": {},
   "source": [
    "# Pattern - 7\n"
   ]
  },
  {
   "cell_type": "code",
   "execution_count": 7,
   "metadata": {},
   "outputs": [
    {
     "name": "stdout",
     "output_type": "stream",
     "text": [
      "          * \n",
      "        * * * \n",
      "      * * * * * \n",
      "    * * * * * * * \n",
      "  * * * * * * * * * \n",
      "* * * * * * * * * * * \n",
      "  * * * * * * * * * \n",
      "    * * * * * * * \n",
      "      * * * * * \n",
      "        * * * \n",
      "          * \n"
     ]
    }
   ],
   "source": [
    "def pattern_7(input):\n",
    "    rows: int = input\n",
    "    for i in range((rows // 2 + 1) if input % 2 != 0 else rows // 2):\n",
    "        # For spaces in the start\n",
    "        for j in range(rows // 2 - i):\n",
    "            print(\" \", end=\" \")\n",
    "        # For triangle\n",
    "        for j in range(2 * i + 1):\n",
    "            print(\"*\", end=\" \")\n",
    "        print()\n",
    "    for i in range(rows // 2):\n",
    "        # For spaces in the start\n",
    "        for j in range(i + 1):\n",
    "            print(\" \", end=\" \")\n",
    "        # For triangle\n",
    "        for j in range(2 * (rows // 2 - (i + 1)) + 1):\n",
    "            print(\"*\", end=\" \")\n",
    "        print()\n",
    "\n",
    "\n",
    "pattern_7(11)"
   ]
  },
  {
   "cell_type": "markdown",
   "metadata": {},
   "source": [
    "# Pattern - 8\n"
   ]
  },
  {
   "cell_type": "code",
   "execution_count": 8,
   "metadata": {},
   "outputs": [
    {
     "name": "stdout",
     "output_type": "stream",
     "text": [
      "                +   \n",
      "              +   +   \n",
      "            +   +   +   \n",
      "          +   +   +   +   \n",
      "        +   +   +   +   +   \n",
      "      +   +   +   +   +   +   \n",
      "    +   +   +   +   +   +   +   \n",
      "  +   +   +   +   +   +   +   +   \n",
      "    +   +   +   +   +   +   +   \n",
      "      +   +   +   +   +   +   \n",
      "        +   +   +   +   +   \n",
      "          +   +   +   +   \n",
      "            +   +   +   \n",
      "              +   +   \n",
      "                +   \n",
      "                  \n"
     ]
    }
   ],
   "source": [
    "def pattern_8(input):\n",
    "    rows: int = input\n",
    "    for i in range((rows) if input % 2 != 0 else rows):\n",
    "        # For spaces in the start\n",
    "        for j in range(rows - i):\n",
    "            print(\" \", end=\" \")\n",
    "        # For triangle\n",
    "        for j in range(i + 1):\n",
    "            print(\"+ \", end=\"  \")\n",
    "        print()\n",
    "    for i in range(rows):\n",
    "        # For spaces in the start\n",
    "        for j in range(i + 2):\n",
    "            print(\" \", end=\" \")\n",
    "        # For triangle\n",
    "        for j in range((rows - (i + 1))):\n",
    "            print(\"+ \", end=\"  \")\n",
    "        print()\n",
    "\n",
    "\n",
    "pattern_8(8)"
   ]
  },
  {
   "cell_type": "markdown",
   "metadata": {},
   "source": [
    "# Pattern - 9\n"
   ]
  },
  {
   "cell_type": "code",
   "execution_count": 9,
   "metadata": {},
   "outputs": [
    {
     "name": "stdout",
     "output_type": "stream",
     "text": [
      "              +   \n",
      "            +   +   \n",
      "          +       +   \n",
      "        +           +   \n",
      "      +               +   \n",
      "    +                   +   \n",
      "  +                       +   \n",
      "+                           +   \n",
      "  +                       +   \n",
      "    +                   +   \n",
      "      +               +   \n",
      "        +           +   \n",
      "          +       +   \n",
      "            +   +   \n",
      "              +   \n",
      "                \n"
     ]
    }
   ],
   "source": [
    "def pattern_9(input):\n",
    "    rows: int = input\n",
    "    for i in range((rows) if input % 2 != 0 else rows):\n",
    "        # For spaces in the start\n",
    "        for j in range(rows - i - 1):\n",
    "            print(\" \", end=\" \")\n",
    "        # For triangle\n",
    "        for j in range(i + 1):\n",
    "            if j == 0 or j == i:\n",
    "                print(\"+ \", end=\"  \")\n",
    "            else:\n",
    "                print(\"  \", end=\"  \")\n",
    "        print()\n",
    "    for i in range(rows):\n",
    "        # For spaces in the start\n",
    "        for j in range(i + 1):\n",
    "            print(\" \", end=\" \")\n",
    "        # For triangle\n",
    "        for j in range((rows - (i + 1))):\n",
    "            if j == 0 or j == ((rows - (i + 1)) - 1):\n",
    "                print(\"+ \", end=\"  \")\n",
    "            else:\n",
    "                print(\"  \", end=\"  \")\n",
    "        print()\n",
    "\n",
    "\n",
    "pattern_9(8)"
   ]
  },
  {
   "cell_type": "markdown",
   "metadata": {},
   "source": [
    "# Pattern - 10\n"
   ]
  },
  {
   "cell_type": "code",
   "execution_count": 10,
   "metadata": {},
   "outputs": [
    {
     "name": "stdout",
     "output_type": "stream",
     "text": [
      "+ \n",
      "+ + \n",
      "+ + + \n",
      "+ + + + \n",
      "+ + + + + \n",
      "+ + + + + + \n",
      "+ + + + + + + \n",
      "+ + + + + + + + \n",
      "+ + + + + + + + + \n",
      "+ + + + + + + + \n",
      "+ + + + + + + \n",
      "+ + + + + + \n",
      "+ + + + + \n",
      "+ + + + \n",
      "+ + + \n",
      "+ + \n",
      "+ \n",
      "\n"
     ]
    }
   ],
   "source": [
    "def pattern_10(input):\n",
    "    rows: int = input\n",
    "    for i in range((rows) if input % 2 != 0 else rows):\n",
    "        # For triangle\n",
    "        for j in range(i + 1):\n",
    "            print(\"+\", end=\" \")\n",
    "        print()\n",
    "    for i in range(rows):\n",
    "        # For triangle\n",
    "        for j in range((rows - (i + 1))):\n",
    "            print(\"+\", end=\" \")\n",
    "        print()\n",
    "\n",
    "\n",
    "pattern_10(9)"
   ]
  },
  {
   "cell_type": "markdown",
   "metadata": {},
   "source": [
    "# Pattern - 11\n"
   ]
  },
  {
   "cell_type": "code",
   "execution_count": 11,
   "metadata": {},
   "outputs": [
    {
     "name": "stdout",
     "output_type": "stream",
     "text": [
      "*  *  *  *  *  *  *  *  *  *  \n",
      "*  *  *  *        *  *  *  *  \n",
      "*  *  *              *  *  *  \n",
      "*  *                    *  *  \n",
      "*                          *  \n",
      "*                          *  \n",
      "*  *                    *  *  \n",
      "*  *  *              *  *  *  \n",
      "*  *  *  *        *  *  *  *  \n",
      "*  *  *  *  *  *  *  *  *  *  \n"
     ]
    }
   ],
   "source": [
    "def pattern_11(input):\n",
    "    rows: int = input\n",
    "    for i in range((rows // 2 + 1) if input % 2 != 0 else rows // 2):\n",
    "        for j in range(rows // 2 - i):\n",
    "            print(\"* \", end=\" \")\n",
    "        for j in range(2 * (i)):\n",
    "            print(\"  \", end=\" \")\n",
    "        for j in range(rows // 2 - i):\n",
    "            print(\"* \", end=\" \")\n",
    "        print()\n",
    "    for i in range(rows // 2):\n",
    "        for j in range(i + 1):\n",
    "            print(\"* \", end=\" \")\n",
    "        for j in range(2 * (rows // 2 - (i + 1))):\n",
    "            print(\"  \", end=\" \")\n",
    "        for j in range(i + 1):\n",
    "            print(\"* \", end=\" \")\n",
    "        print()\n",
    "\n",
    "\n",
    "pattern_11(10)"
   ]
  },
  {
   "cell_type": "markdown",
   "metadata": {},
   "source": [
    "# Pattern - 12\n"
   ]
  },
  {
   "cell_type": "code",
   "execution_count": 12,
   "metadata": {},
   "outputs": [
    {
     "name": "stdout",
     "output_type": "stream",
     "text": [
      "*  *  *  *  *  *  *  *  *  *      \n",
      "*  *  *  *  *  *  *  *  *          \n",
      "*  *  *  *  *  *  *  *              \n",
      "*  *  *  *  *  *  *                  \n",
      "*  *  *  *  *  *                      \n",
      "*  *  *  *  *                          \n",
      "*  *  *  *                              \n",
      "*  *  *                                  \n",
      "*  *                                      \n",
      "*                                          \n",
      "*                                      \n",
      "*  *                                  \n",
      "*  *  *                              \n",
      "*  *  *  *                          \n",
      "*  *  *  *  *                      \n",
      "*  *  *  *  *  *                  \n",
      "*  *  *  *  *  *  *              \n",
      "*  *  *  *  *  *  *  *          \n",
      "*  *  *  *  *  *  *  *  *      \n",
      "*  *  *  *  *  *  *  *  *  *  \n"
     ]
    }
   ],
   "source": [
    "def pattern_12(input):\n",
    "    rows: int = input\n",
    "    for i in range((rows+1) if input % 2 != 0 else rows):\n",
    "        # For spaces in the start\n",
    "        for j in range(rows - i):\n",
    "            print(\"* \", end=\" \")\n",
    "        # For triangle\n",
    "        for j in range(i + 1):\n",
    "            print(\"  \", end=\"  \")\n",
    "        print()\n",
    "    for i in range(rows):\n",
    "        # For spaces in the start\n",
    "        for j in range(i+1):\n",
    "            print(\"* \", end=\" \")\n",
    "        # For triangle\n",
    "        for j in range((rows - (i + 1))):\n",
    "            print(\"  \", end=\"  \")\n",
    "        print()\n",
    "\n",
    "\n",
    "pattern_12(10)"
   ]
  }
 ],
 "metadata": {
  "kernelspec": {
   "display_name": ".venv",
   "language": "python",
   "name": "python3"
  },
  "language_info": {
   "codemirror_mode": {
    "name": "ipython",
    "version": 3
   },
   "file_extension": ".py",
   "mimetype": "text/x-python",
   "name": "python",
   "nbconvert_exporter": "python",
   "pygments_lexer": "ipython3",
   "version": "3.12.2"
  }
 },
 "nbformat": 4,
 "nbformat_minor": 2
}
