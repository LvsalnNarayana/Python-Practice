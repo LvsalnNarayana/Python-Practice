{
 "cells": [
  {
   "cell_type": "markdown",
   "metadata": {},
   "source": [
    "# if...else"
   ]
  },
  {
   "cell_type": "code",
   "execution_count": 2,
   "metadata": {},
   "outputs": [
    {
     "name": "stdout",
     "output_type": "stream",
     "text": [
      "Provide makrs to grade\n"
     ]
    }
   ],
   "source": [
    "marks = None\n",
    "\n",
    "if marks is None:\n",
    "    print('Provide makrs to grade')\n",
    "elif marks < 25:\n",
    "    print(\"Grade F\")\n",
    "elif marks < 35 : \n",
    "    print('Grade D')\n",
    "elif marks < 55:\n",
    "    print('Grade C')\n",
    "elif marks < 75:\n",
    "    print('Grade B')\n",
    "elif marks < 95:\n",
    "    print('Grade A')\n",
    "elif marks > 95:\n",
    "    print('Grade A+')\n",
    "\n"
   ]
  }
 ],
 "metadata": {
  "kernelspec": {
   "display_name": "Python 3",
   "language": "python",
   "name": "python3"
  },
  "language_info": {
   "codemirror_mode": {
    "name": "ipython",
    "version": 3
   },
   "file_extension": ".py",
   "mimetype": "text/x-python",
   "name": "python",
   "nbconvert_exporter": "python",
   "pygments_lexer": "ipython3",
   "version": "3.12.2"
  }
 },
 "nbformat": 4,
 "nbformat_minor": 2
}
