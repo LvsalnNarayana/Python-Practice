{
 "cells": [
  {
   "cell_type": "markdown",
   "metadata": {},
   "source": [
    "# abs()\n",
    "\n",
    "### Returns the absolute value of a number\n"
   ]
  },
  {
   "cell_type": "code",
   "execution_count": 1,
   "metadata": {},
   "outputs": [
    {
     "name": "stdout",
     "output_type": "stream",
     "text": [
      "10\n"
     ]
    }
   ],
   "source": [
    "print(abs(-10))"
   ]
  },
  {
   "cell_type": "markdown",
   "metadata": {},
   "source": [
    "# all()\n",
    "\n",
    "### Returns True if all items in an iterable object are true\n"
   ]
  },
  {
   "cell_type": "code",
   "execution_count": 2,
   "metadata": {},
   "outputs": [
    {
     "name": "stdout",
     "output_type": "stream",
     "text": [
      "True\n"
     ]
    }
   ],
   "source": [
    "print(all([True, True, True]))"
   ]
  },
  {
   "cell_type": "markdown",
   "metadata": {},
   "source": [
    "# any()\n",
    "\n",
    "### Returns True if all items in an iterable object are true\n"
   ]
  },
  {
   "cell_type": "code",
   "execution_count": 5,
   "metadata": {},
   "outputs": [
    {
     "name": "stdout",
     "output_type": "stream",
     "text": [
      "True\n"
     ]
    }
   ],
   "source": [
    "print(any([True, False, False]))"
   ]
  },
  {
   "cell_type": "markdown",
   "metadata": {},
   "source": [
    "# ascii()\n",
    "\n",
    "### Returns a readable version of an object\n"
   ]
  },
  {
   "cell_type": "code",
   "execution_count": 6,
   "metadata": {},
   "outputs": [
    {
     "name": "stdout",
     "output_type": "stream",
     "text": [
      "'r%02is r'\n"
     ]
    }
   ],
   "source": [
    "print(ascii(\"r%02is r\"))"
   ]
  },
  {
   "cell_type": "markdown",
   "metadata": {},
   "source": [
    "# bin()\n",
    "\n",
    "### Returns the binary version of a number\n"
   ]
  },
  {
   "cell_type": "code",
   "execution_count": 7,
   "metadata": {},
   "outputs": [
    {
     "name": "stdout",
     "output_type": "stream",
     "text": [
      "0b1100100\n"
     ]
    }
   ],
   "source": [
    "print(bin(100))"
   ]
  },
  {
   "cell_type": "markdown",
   "metadata": {},
   "source": [
    "# bool()\n",
    "\n",
    "### Returns the boolean value of the specified object\n"
   ]
  },
  {
   "cell_type": "code",
   "execution_count": 8,
   "metadata": {},
   "outputs": [
    {
     "name": "stdout",
     "output_type": "stream",
     "text": [
      "False\n"
     ]
    }
   ],
   "source": [
    "print(bool(0))"
   ]
  },
  {
   "cell_type": "markdown",
   "metadata": {},
   "source": [
    "# bytes()\n",
    "\n",
    "### Returns a bytes object\n"
   ]
  },
  {
   "cell_type": "code",
   "execution_count": 9,
   "metadata": {},
   "outputs": [
    {
     "name": "stdout",
     "output_type": "stream",
     "text": [
      "b'\\x00\\x00\\x00\\x00'\n"
     ]
    }
   ],
   "source": [
    "print(bytes(4))"
   ]
  },
  {
   "cell_type": "markdown",
   "metadata": {},
   "source": [
    "# callable()\n",
    "\n",
    "### Returns True if the specified object is callable, otherwise False\n"
   ]
  },
  {
   "cell_type": "code",
   "execution_count": 10,
   "metadata": {},
   "outputs": [
    {
     "name": "stdout",
     "output_type": "stream",
     "text": [
      "True\n",
      "False\n"
     ]
    }
   ],
   "source": [
    "def x():\n",
    "    a = 5  # noqa: F841\n",
    "\n",
    "\n",
    "y = 10\n",
    "\n",
    "\n",
    "print(callable(x))\n",
    "print(callable(y))\n"
   ]
  },
  {
   "cell_type": "markdown",
   "metadata": {},
   "source": [
    "# chr()\n",
    "\n",
    "### Returns a character from the specified Unicode code\n"
   ]
  },
  {
   "cell_type": "code",
   "execution_count": 11,
   "metadata": {},
   "outputs": [
    {
     "name": "stdout",
     "output_type": "stream",
     "text": [
      "x\n"
     ]
    }
   ],
   "source": [
    "print(chr(120))"
   ]
  },
  {
   "cell_type": "markdown",
   "metadata": {},
   "source": [
    "# compile()\n",
    "\n",
    "### Returns the specified source as an object, ready to be executed\n"
   ]
  },
  {
   "cell_type": "code",
   "execution_count": 12,
   "metadata": {},
   "outputs": [
    {
     "name": "stdout",
     "output_type": "stream",
     "text": [
      "55\n"
     ]
    }
   ],
   "source": [
    "x = compile(\"print(55)\", \"test\", \"eval\")\n",
    "exec(x)\n"
   ]
  },
  {
   "cell_type": "markdown",
   "metadata": {},
   "source": [
    "# complex()\n",
    "\n",
    "### Returns a complex number\n"
   ]
  },
  {
   "cell_type": "code",
   "execution_count": 13,
   "metadata": {},
   "outputs": [
    {
     "name": "stdout",
     "output_type": "stream",
     "text": [
      "(3+5j)\n"
     ]
    }
   ],
   "source": [
    "x = complex(3, 5)\n",
    "print(x)\n"
   ]
  },
  {
   "cell_type": "markdown",
   "metadata": {},
   "source": [
    "# delattr()\n",
    "\n",
    "### Deletes the specified attribute (property or method) from the specified object\n"
   ]
  },
  {
   "cell_type": "code",
   "execution_count": 14,
   "metadata": {},
   "outputs": [],
   "source": [
    "class Person:\n",
    "    name = \"John\"\n",
    "    age = 36\n",
    "    country = \"Norway\"\n",
    "\n",
    "\n",
    "delattr(Person, \"age\")\n"
   ]
  },
  {
   "cell_type": "markdown",
   "metadata": {},
   "source": [
    "# dict()\n",
    "\n",
    "### Returns a dictionary (Array)\n"
   ]
  },
  {
   "cell_type": "code",
   "execution_count": 15,
   "metadata": {},
   "outputs": [
    {
     "name": "stdout",
     "output_type": "stream",
     "text": [
      "{'name': 'John', 'age': 36, 'country': 'Norway'}\n"
     ]
    }
   ],
   "source": [
    "x = dict(name=\"John\", age=36, country=\"Norway\")\n",
    "print(x)\n"
   ]
  },
  {
   "cell_type": "markdown",
   "metadata": {},
   "source": [
    "# dir()\n",
    "\n",
    "### Returns a list of the specified object's properties and methods\n"
   ]
  },
  {
   "cell_type": "code",
   "execution_count": 16,
   "metadata": {},
   "outputs": [
    {
     "name": "stdout",
     "output_type": "stream",
     "text": [
      "['__class__', '__delattr__', '__dict__', '__dir__', '__doc__', '__eq__', '__format__', '__ge__', '__getattribute__', '__getstate__', '__gt__', '__hash__', '__init__', '__init_subclass__', '__le__', '__lt__', '__module__', '__ne__', '__new__', '__reduce__', '__reduce_ex__', '__repr__', '__setattr__', '__sizeof__', '__str__', '__subclasshook__', '__weakref__', 'age', 'country', 'name']\n"
     ]
    }
   ],
   "source": [
    "class Person:\n",
    "    name = \"John\"\n",
    "    age = 36\n",
    "    country = \"Norway\"\n",
    "\n",
    "\n",
    "print(dir(Person))\n"
   ]
  },
  {
   "cell_type": "markdown",
   "metadata": {},
   "source": [
    "# divmod()\n",
    "\n",
    "### Returns the quotient and the remainder when argument1 is divided by argument2\n"
   ]
  },
  {
   "cell_type": "code",
   "execution_count": 17,
   "metadata": {},
   "outputs": [
    {
     "name": "stdout",
     "output_type": "stream",
     "text": [
      "(2, 1)\n"
     ]
    }
   ],
   "source": [
    "x = divmod(5, 2)\n",
    "print(x)\n"
   ]
  },
  {
   "cell_type": "markdown",
   "metadata": {},
   "source": [
    "# enumerate()\n",
    "\n",
    "### Takes a collection (e.g. a tuple) and returns it as an enumerate object\n"
   ]
  },
  {
   "cell_type": "code",
   "execution_count": 18,
   "metadata": {},
   "outputs": [
    {
     "name": "stdout",
     "output_type": "stream",
     "text": [
      "0 apple\n",
      "1 banana\n",
      "2 cherry\n"
     ]
    }
   ],
   "source": [
    "x = (\"apple\", \"banana\", \"cherry\")\n",
    "y = enumerate(x)\n",
    "\n",
    "# Iterate through the enumerate object and print index and value\n",
    "for index, value in y:\n",
    "    print(index, value)\n"
   ]
  },
  {
   "cell_type": "markdown",
   "metadata": {},
   "source": [
    "# eval()\n",
    "\n",
    "### Evaluates and executes an expression\n"
   ]
  },
  {
   "cell_type": "code",
   "execution_count": 19,
   "metadata": {},
   "outputs": [
    {
     "name": "stdout",
     "output_type": "stream",
     "text": [
      "55\n"
     ]
    }
   ],
   "source": [
    "x = \"print(55)\"\n",
    "eval(x)\n"
   ]
  },
  {
   "cell_type": "markdown",
   "metadata": {},
   "source": [
    "# exec()\n",
    "\n",
    "### Executes the specified code (or object)\n"
   ]
  },
  {
   "cell_type": "code",
   "execution_count": 20,
   "metadata": {},
   "outputs": [
    {
     "name": "stdout",
     "output_type": "stream",
     "text": [
      "John\n"
     ]
    }
   ],
   "source": [
    "x = 'name = \"John\"\\nprint(name)'\n",
    "exec(x)\n"
   ]
  },
  {
   "cell_type": "markdown",
   "metadata": {},
   "source": [
    "# filter()\n",
    "\n",
    "### Use a filter function to exclude items in an iterable object\n"
   ]
  },
  {
   "cell_type": "code",
   "execution_count": 21,
   "metadata": {},
   "outputs": [
    {
     "name": "stdout",
     "output_type": "stream",
     "text": [
      "18\n",
      "24\n",
      "32\n"
     ]
    }
   ],
   "source": [
    "ages = [5, 12, 17, 18, 24, 32]\n",
    "\n",
    "\n",
    "def myFunc(x):\n",
    "    if x < 18:\n",
    "        return False\n",
    "    else:\n",
    "        return True\n",
    "\n",
    "\n",
    "# filter(function , Iterable)\n",
    "adults = filter(myFunc, ages)\n",
    "for x in adults:\n",
    "    print(x)\n"
   ]
  },
  {
   "cell_type": "markdown",
   "metadata": {},
   "source": [
    "# float()\n",
    "\n",
    "### Returns a floating point number\n"
   ]
  },
  {
   "cell_type": "code",
   "execution_count": 22,
   "metadata": {},
   "outputs": [
    {
     "name": "stdout",
     "output_type": "stream",
     "text": [
      "3.0\n"
     ]
    }
   ],
   "source": [
    "x = float(3)\n",
    "print(x)\n"
   ]
  },
  {
   "cell_type": "markdown",
   "metadata": {},
   "source": [
    "# format()\n",
    "\n",
    "### Formats a specified value\n"
   ]
  },
  {
   "cell_type": "code",
   "execution_count": 23,
   "metadata": {},
   "outputs": [
    {
     "name": "stdout",
     "output_type": "stream",
     "text": [
      "0.500000\n"
     ]
    }
   ],
   "source": [
    "x = format(0.5, \"f\")\n",
    "# '<' - Left aligns the result (within the available space)\n",
    "# '>' - Right aligns the result (within the available space)\n",
    "# '^' - Center aligns the result (within the available space)\n",
    "# '=' - Places the sign to the left most position\n",
    "# '+' - Use a plus sign to indicate if the result is positive or negative\n",
    "# '-' - Use a minus sign for negative values only\n",
    "# ' ' - Use a leading space for positive numbers\n",
    "# ',' - Use a comma as a thousand separator\n",
    "# '_' - Use a underscore as a thousand separator\n",
    "# 'b' - Binary format\n",
    "# 'c' - Converts the value into the corresponding unicode character\n",
    "# 'd' - Decimal format\n",
    "# 'e' - Scientific format, with a lower case e\n",
    "# 'E' - Scientific format, with an upper case E\n",
    "# 'f' - Fix point number format\n",
    "# 'F' - Fix point number format, upper case\n",
    "# 'g' - General format\n",
    "# 'G' - General format (using a upper case E for scientific notations)\n",
    "# 'o' - Octal format\n",
    "# 'x' - Hex format, lower case\n",
    "# 'X' - Hex format, upper case\n",
    "# 'n' - Number format\n",
    "# '%' - Percentage format\n",
    "print(x)\n"
   ]
  },
  {
   "cell_type": "markdown",
   "metadata": {},
   "source": [
    "# frozenset()\n",
    "\n",
    "### Returns a frozenset object\n"
   ]
  },
  {
   "cell_type": "code",
   "execution_count": 24,
   "metadata": {},
   "outputs": [
    {
     "name": "stdout",
     "output_type": "stream",
     "text": [
      "frozenset({'apple', 'banana', 'cherry'})\n"
     ]
    }
   ],
   "source": [
    "mylist = [\"apple\", \"banana\", \"cherry\"]\n",
    "x = frozenset(mylist)\n",
    "print(x)\n"
   ]
  },
  {
   "cell_type": "markdown",
   "metadata": {},
   "source": [
    "# getattr()\n",
    "\n",
    "### Returns the value of the specified attribute (property or method)\n"
   ]
  },
  {
   "cell_type": "code",
   "execution_count": 25,
   "metadata": {},
   "outputs": [
    {
     "name": "stdout",
     "output_type": "stream",
     "text": [
      "36\n"
     ]
    }
   ],
   "source": [
    "class Person:\n",
    "    name = \"John\"\n",
    "    age = 36\n",
    "    country = \"Norway\"\n",
    "\n",
    "\n",
    "x = getattr(Person, \"age\")\n",
    "print(x)\n"
   ]
  },
  {
   "cell_type": "markdown",
   "metadata": {},
   "source": [
    "# globals()\n",
    "\n",
    "### Returns the current global symbol table as a dictionary\n"
   ]
  },
  {
   "cell_type": "code",
   "execution_count": 26,
   "metadata": {},
   "outputs": [
    {
     "name": "stdout",
     "output_type": "stream",
     "text": [
      "{'__name__': '__main__', '__doc__': 'Automatically created module for IPython interactive environment', '__package__': None, '__loader__': None, '__spec__': None, '__builtin__': <module 'builtins' (built-in)>, '__builtins__': <module 'builtins' (built-in)>, '_ih': ['', 'print(ascii(\"r%02is r\"))', 'x = divmod(5, 2)\\nprint(x)', 'print(abs(-10))', 'print(all([True, True, True]))', 'print(any([True, False, False]))', 'print(ascii(\"r%02is r\"))', 'print(bin(100))', 'print(bool(0))', 'print(bytes(4))', 'def x():\\n    a = 5  # noqa: F841\\n\\n\\ny = 10\\n\\n\\nprint(callable(x))\\nprint(callable(y))', 'print(chr(120))', 'x = compile(\"print(55)\", \"test\", \"eval\")\\nexec(x)', 'x = complex(3, 5)\\nprint(x)', 'class Person:\\n    name = \"John\"\\n    age = 36\\n    country = \"Norway\"\\n\\n\\ndelattr(Person, \"age\")', 'x = dict(name=\"John\", age=36, country=\"Norway\")\\nprint(x)', 'class Person:\\n    name = \"John\"\\n    age = 36\\n    country = \"Norway\"\\n\\n\\nprint(dir(Person))', 'x = divmod(5, 2)\\nprint(x)', 'x = (\"apple\", \"banana\", \"cherry\")\\ny = enumerate(x)\\n\\n# Iterate through the enumerate object and print index and value\\nfor index, value in y:\\n    print(index, value)', 'x = \"print(55)\"\\neval(x)', 'x = \\'name = \"John\"\\\\nprint(name)\\'\\nexec(x)', 'ages = [5, 12, 17, 18, 24, 32]\\n\\n\\ndef myFunc(x):\\n    if x < 18:\\n        return False\\n    else:\\n        return True\\n\\n\\n# filter(function , Iterable)\\nadults = filter(myFunc, ages)\\nfor x in adults:\\n    print(x)', 'x = float(3)\\nprint(x)', 'x = format(0.5, \"f\")\\n# \\'<\\' - Left aligns the result (within the available space)\\n# \\'>\\' - Right aligns the result (within the available space)\\n# \\'^\\' - Center aligns the result (within the available space)\\n# \\'=\\' - Places the sign to the left most position\\n# \\'+\\' - Use a plus sign to indicate if the result is positive or negative\\n# \\'-\\' - Use a minus sign for negative values only\\n# \\' \\' - Use a leading space for positive numbers\\n# \\',\\' - Use a comma as a thousand separator\\n# \\'_\\' - Use a underscore as a thousand separator\\n# \\'b\\' - Binary format\\n# \\'c\\' - Converts the value into the corresponding unicode character\\n# \\'d\\' - Decimal format\\n# \\'e\\' - Scientific format, with a lower case e\\n# \\'E\\' - Scientific format, with an upper case E\\n# \\'f\\' - Fix point number format\\n# \\'F\\' - Fix point number format, upper case\\n# \\'g\\' - General format\\n# \\'G\\' - General format (using a upper case E for scientific notations)\\n# \\'o\\' - Octal format\\n# \\'x\\' - Hex format, lower case\\n# \\'X\\' - Hex format, upper case\\n# \\'n\\' - Number format\\n# \\'%\\' - Percentage format\\nprint(x)', 'mylist = [\"apple\", \"banana\", \"cherry\"]\\nx = frozenset(mylist)\\nprint(x)', 'class Person:\\n    name = \"John\"\\n    age = 36\\n    country = \"Norway\"\\n\\n\\nx = getattr(Person, \"age\")\\nprint(x)', 'x = globals()\\nprint(x)'], '_oh': {}, '_dh': [WindowsPath('d:/Narayana Lvsaln/Code It/Python Practice'), WindowsPath('d:/Narayana Lvsaln/Code It/Python Practice')], 'In': ['', 'print(ascii(\"r%02is r\"))', 'x = divmod(5, 2)\\nprint(x)', 'print(abs(-10))', 'print(all([True, True, True]))', 'print(any([True, False, False]))', 'print(ascii(\"r%02is r\"))', 'print(bin(100))', 'print(bool(0))', 'print(bytes(4))', 'def x():\\n    a = 5  # noqa: F841\\n\\n\\ny = 10\\n\\n\\nprint(callable(x))\\nprint(callable(y))', 'print(chr(120))', 'x = compile(\"print(55)\", \"test\", \"eval\")\\nexec(x)', 'x = complex(3, 5)\\nprint(x)', 'class Person:\\n    name = \"John\"\\n    age = 36\\n    country = \"Norway\"\\n\\n\\ndelattr(Person, \"age\")', 'x = dict(name=\"John\", age=36, country=\"Norway\")\\nprint(x)', 'class Person:\\n    name = \"John\"\\n    age = 36\\n    country = \"Norway\"\\n\\n\\nprint(dir(Person))', 'x = divmod(5, 2)\\nprint(x)', 'x = (\"apple\", \"banana\", \"cherry\")\\ny = enumerate(x)\\n\\n# Iterate through the enumerate object and print index and value\\nfor index, value in y:\\n    print(index, value)', 'x = \"print(55)\"\\neval(x)', 'x = \\'name = \"John\"\\\\nprint(name)\\'\\nexec(x)', 'ages = [5, 12, 17, 18, 24, 32]\\n\\n\\ndef myFunc(x):\\n    if x < 18:\\n        return False\\n    else:\\n        return True\\n\\n\\n# filter(function , Iterable)\\nadults = filter(myFunc, ages)\\nfor x in adults:\\n    print(x)', 'x = float(3)\\nprint(x)', 'x = format(0.5, \"f\")\\n# \\'<\\' - Left aligns the result (within the available space)\\n# \\'>\\' - Right aligns the result (within the available space)\\n# \\'^\\' - Center aligns the result (within the available space)\\n# \\'=\\' - Places the sign to the left most position\\n# \\'+\\' - Use a plus sign to indicate if the result is positive or negative\\n# \\'-\\' - Use a minus sign for negative values only\\n# \\' \\' - Use a leading space for positive numbers\\n# \\',\\' - Use a comma as a thousand separator\\n# \\'_\\' - Use a underscore as a thousand separator\\n# \\'b\\' - Binary format\\n# \\'c\\' - Converts the value into the corresponding unicode character\\n# \\'d\\' - Decimal format\\n# \\'e\\' - Scientific format, with a lower case e\\n# \\'E\\' - Scientific format, with an upper case E\\n# \\'f\\' - Fix point number format\\n# \\'F\\' - Fix point number format, upper case\\n# \\'g\\' - General format\\n# \\'G\\' - General format (using a upper case E for scientific notations)\\n# \\'o\\' - Octal format\\n# \\'x\\' - Hex format, lower case\\n# \\'X\\' - Hex format, upper case\\n# \\'n\\' - Number format\\n# \\'%\\' - Percentage format\\nprint(x)', 'mylist = [\"apple\", \"banana\", \"cherry\"]\\nx = frozenset(mylist)\\nprint(x)', 'class Person:\\n    name = \"John\"\\n    age = 36\\n    country = \"Norway\"\\n\\n\\nx = getattr(Person, \"age\")\\nprint(x)', 'x = globals()\\nprint(x)'], 'Out': {}, 'get_ipython': <bound method InteractiveShell.get_ipython of <ipykernel.zmqshell.ZMQInteractiveShell object at 0x000001F37B627290>>, 'exit': <IPython.core.autocall.ZMQExitAutocall object at 0x000001F37B627980>, 'quit': <IPython.core.autocall.ZMQExitAutocall object at 0x000001F37B627980>, 'open': <function open at 0x000001F37977FC40>, '_': '', '__': '', '___': '', '__vsc_ipynb_file__': 'd:\\\\Narayana Lvsaln\\\\Code It\\\\Python Practice\\\\Builtin_Functions.ipynb', '_i': 'class Person:\\n    name = \"John\"\\n    age = 36\\n    country = \"Norway\"\\n\\n\\nx = getattr(Person, \"age\")\\nprint(x)', '_ii': 'mylist = [\"apple\", \"banana\", \"cherry\"]\\nx = frozenset(mylist)\\nprint(x)', '_iii': 'x = format(0.5, \"f\")\\n# \\'<\\' - Left aligns the result (within the available space)\\n# \\'>\\' - Right aligns the result (within the available space)\\n# \\'^\\' - Center aligns the result (within the available space)\\n# \\'=\\' - Places the sign to the left most position\\n# \\'+\\' - Use a plus sign to indicate if the result is positive or negative\\n# \\'-\\' - Use a minus sign for negative values only\\n# \\' \\' - Use a leading space for positive numbers\\n# \\',\\' - Use a comma as a thousand separator\\n# \\'_\\' - Use a underscore as a thousand separator\\n# \\'b\\' - Binary format\\n# \\'c\\' - Converts the value into the corresponding unicode character\\n# \\'d\\' - Decimal format\\n# \\'e\\' - Scientific format, with a lower case e\\n# \\'E\\' - Scientific format, with an upper case E\\n# \\'f\\' - Fix point number format\\n# \\'F\\' - Fix point number format, upper case\\n# \\'g\\' - General format\\n# \\'G\\' - General format (using a upper case E for scientific notations)\\n# \\'o\\' - Octal format\\n# \\'x\\' - Hex format, lower case\\n# \\'X\\' - Hex format, upper case\\n# \\'n\\' - Number format\\n# \\'%\\' - Percentage format\\nprint(x)', '_i1': 'print(ascii(\"r%02is r\"))', '_i2': 'x = divmod(5, 2)\\nprint(x)', 'x': {...}, '_i3': 'print(abs(-10))', '_i4': 'print(all([True, True, True]))', '_i5': 'print(any([True, False, False]))', '_i6': 'print(ascii(\"r%02is r\"))', '_i7': 'print(bin(100))', '_i8': 'print(bool(0))', '_i9': 'print(bytes(4))', '_i10': 'def x():\\n    a = 5  # noqa: F841\\n\\n\\ny = 10\\n\\n\\nprint(callable(x))\\nprint(callable(y))', 'y': <enumerate object at 0x000001F37B6C68E0>, '_i11': 'print(chr(120))', '_i12': 'x = compile(\"print(55)\", \"test\", \"eval\")\\nexec(x)', '_i13': 'x = complex(3, 5)\\nprint(x)', '_i14': 'class Person:\\n    name = \"John\"\\n    age = 36\\n    country = \"Norway\"\\n\\n\\ndelattr(Person, \"age\")', 'Person': <class '__main__.Person'>, '_i15': 'x = dict(name=\"John\", age=36, country=\"Norway\")\\nprint(x)', '_i16': 'class Person:\\n    name = \"John\"\\n    age = 36\\n    country = \"Norway\"\\n\\n\\nprint(dir(Person))', '_i17': 'x = divmod(5, 2)\\nprint(x)', '_i18': 'x = (\"apple\", \"banana\", \"cherry\")\\ny = enumerate(x)\\n\\n# Iterate through the enumerate object and print index and value\\nfor index, value in y:\\n    print(index, value)', 'index': 2, 'value': 'cherry', '_i19': 'x = \"print(55)\"\\neval(x)', '_i20': 'x = \\'name = \"John\"\\\\nprint(name)\\'\\nexec(x)', 'name': 'John', '_i21': 'ages = [5, 12, 17, 18, 24, 32]\\n\\n\\ndef myFunc(x):\\n    if x < 18:\\n        return False\\n    else:\\n        return True\\n\\n\\n# filter(function , Iterable)\\nadults = filter(myFunc, ages)\\nfor x in adults:\\n    print(x)', 'ages': [5, 12, 17, 18, 24, 32], 'myFunc': <function myFunc at 0x000001F37B666160>, 'adults': <filter object at 0x000001F37B68D8D0>, '_i22': 'x = float(3)\\nprint(x)', '_i23': 'x = format(0.5, \"f\")\\n# \\'<\\' - Left aligns the result (within the available space)\\n# \\'>\\' - Right aligns the result (within the available space)\\n# \\'^\\' - Center aligns the result (within the available space)\\n# \\'=\\' - Places the sign to the left most position\\n# \\'+\\' - Use a plus sign to indicate if the result is positive or negative\\n# \\'-\\' - Use a minus sign for negative values only\\n# \\' \\' - Use a leading space for positive numbers\\n# \\',\\' - Use a comma as a thousand separator\\n# \\'_\\' - Use a underscore as a thousand separator\\n# \\'b\\' - Binary format\\n# \\'c\\' - Converts the value into the corresponding unicode character\\n# \\'d\\' - Decimal format\\n# \\'e\\' - Scientific format, with a lower case e\\n# \\'E\\' - Scientific format, with an upper case E\\n# \\'f\\' - Fix point number format\\n# \\'F\\' - Fix point number format, upper case\\n# \\'g\\' - General format\\n# \\'G\\' - General format (using a upper case E for scientific notations)\\n# \\'o\\' - Octal format\\n# \\'x\\' - Hex format, lower case\\n# \\'X\\' - Hex format, upper case\\n# \\'n\\' - Number format\\n# \\'%\\' - Percentage format\\nprint(x)', '_i24': 'mylist = [\"apple\", \"banana\", \"cherry\"]\\nx = frozenset(mylist)\\nprint(x)', 'mylist': ['apple', 'banana', 'cherry'], '_i25': 'class Person:\\n    name = \"John\"\\n    age = 36\\n    country = \"Norway\"\\n\\n\\nx = getattr(Person, \"age\")\\nprint(x)', '_i26': 'x = globals()\\nprint(x)'}\n"
     ]
    }
   ],
   "source": [
    "x = globals()\n",
    "print(x)\n"
   ]
  },
  {
   "cell_type": "markdown",
   "metadata": {},
   "source": [
    "# hasattr()\n",
    "\n",
    "### Returns True if the specified object has the specified attribute (property/method)\n"
   ]
  },
  {
   "cell_type": "code",
   "execution_count": 27,
   "metadata": {},
   "outputs": [
    {
     "name": "stdout",
     "output_type": "stream",
     "text": [
      "True\n"
     ]
    }
   ],
   "source": [
    "class Person:\n",
    "    name = \"John\"\n",
    "    age = 36\n",
    "    country = \"Norway\"\n",
    "\n",
    "\n",
    "x = hasattr(Person, \"age\")\n",
    "print(x)\n"
   ]
  },
  {
   "cell_type": "markdown",
   "metadata": {},
   "source": [
    "# hex()\n",
    "\n",
    "### Converts a number into a hexadecimal value\n"
   ]
  },
  {
   "cell_type": "code",
   "execution_count": 28,
   "metadata": {},
   "outputs": [
    {
     "name": "stdout",
     "output_type": "stream",
     "text": [
      "0xff\n"
     ]
    }
   ],
   "source": [
    "x = hex(255)\n",
    "print(x)\n"
   ]
  },
  {
   "cell_type": "markdown",
   "metadata": {},
   "source": [
    "# id()\n",
    "\n",
    "### Returns the id of an object\n"
   ]
  },
  {
   "cell_type": "code",
   "execution_count": 29,
   "metadata": {},
   "outputs": [
    {
     "name": "stdout",
     "output_type": "stream",
     "text": [
      "2145259184640\n"
     ]
    }
   ],
   "source": [
    "x = (\"apple\", \"banana\", \"cherry\")\n",
    "y = id(x)\n",
    "print(y)\n"
   ]
  },
  {
   "cell_type": "markdown",
   "metadata": {},
   "source": [
    "# input()\n",
    "\n",
    "### Allowing user input\n"
   ]
  },
  {
   "cell_type": "code",
   "execution_count": 30,
   "metadata": {},
   "outputs": [],
   "source": [
    "# print(\"Enter your name:\")\n",
    "# x = input()\n",
    "# print(\"Hello, \" + x)\n"
   ]
  },
  {
   "cell_type": "markdown",
   "metadata": {},
   "source": [
    "# int()\n",
    "\n",
    "### Returns an integer number\n"
   ]
  },
  {
   "cell_type": "code",
   "execution_count": 31,
   "metadata": {},
   "outputs": [
    {
     "name": "stdout",
     "output_type": "stream",
     "text": [
      "3\n"
     ]
    }
   ],
   "source": [
    "x = int(3.5)\n",
    "print(x)\n"
   ]
  },
  {
   "cell_type": "markdown",
   "metadata": {},
   "source": [
    "# isinstance()\n",
    "\n",
    "### Returns True if a specified object is an instance of a specified object\n"
   ]
  },
  {
   "cell_type": "code",
   "execution_count": 32,
   "metadata": {},
   "outputs": [
    {
     "name": "stdout",
     "output_type": "stream",
     "text": [
      "True\n"
     ]
    }
   ],
   "source": [
    "x = isinstance(5, int)\n",
    "print(x)\n"
   ]
  },
  {
   "cell_type": "markdown",
   "metadata": {},
   "source": [
    "# issubclass()\n",
    "\n",
    "### Returns True if a specified class is a subclass of a specified object\n"
   ]
  },
  {
   "cell_type": "code",
   "execution_count": 33,
   "metadata": {},
   "outputs": [
    {
     "name": "stdout",
     "output_type": "stream",
     "text": [
      "True\n"
     ]
    }
   ],
   "source": [
    "class myAge:\n",
    "    age = 36\n",
    "\n",
    "\n",
    "class myObj(myAge):\n",
    "    name = \"John\"\n",
    "    age = myAge\n",
    "\n",
    "\n",
    "x = issubclass(myObj, myAge)\n",
    "print(x)\n"
   ]
  },
  {
   "cell_type": "markdown",
   "metadata": {},
   "source": [
    "# iter()\n",
    "\n",
    "### Returns an iterator object\n"
   ]
  },
  {
   "cell_type": "code",
   "execution_count": 34,
   "metadata": {},
   "outputs": [
    {
     "name": "stdout",
     "output_type": "stream",
     "text": [
      "apple\n",
      "banana\n",
      "cherry\n"
     ]
    }
   ],
   "source": [
    "x = iter([\"apple\", \"banana\", \"cherry\"])\n",
    "print(next(x))\n",
    "print(next(x))\n",
    "print(next(x))\n"
   ]
  },
  {
   "cell_type": "markdown",
   "metadata": {},
   "source": [
    "# len()\n",
    "\n",
    "### Returns the length of an object\n"
   ]
  },
  {
   "cell_type": "code",
   "execution_count": 35,
   "metadata": {},
   "outputs": [
    {
     "name": "stdout",
     "output_type": "stream",
     "text": [
      "3\n"
     ]
    }
   ],
   "source": [
    "mylist = [\"apple\", \"banana\", \"cherry\"]\n",
    "x = len(mylist)\n",
    "print(x)\n"
   ]
  },
  {
   "cell_type": "markdown",
   "metadata": {},
   "source": [
    "# list()\n",
    "\n",
    "### Returns a list\n"
   ]
  },
  {
   "cell_type": "code",
   "execution_count": 36,
   "metadata": {},
   "outputs": [
    {
     "name": "stdout",
     "output_type": "stream",
     "text": [
      "['apple', 'banana', 'cherry']\n"
     ]
    }
   ],
   "source": [
    "x = list((\"apple\", \"banana\", \"cherry\"))\n",
    "print(x)\n"
   ]
  },
  {
   "cell_type": "markdown",
   "metadata": {},
   "source": [
    "# locals()\n",
    "\n",
    "### Returns an updated dictionary of the current local symbol table\n"
   ]
  },
  {
   "cell_type": "code",
   "execution_count": 37,
   "metadata": {},
   "outputs": [
    {
     "name": "stdout",
     "output_type": "stream",
     "text": [
      "{'__name__': '__main__', '__doc__': 'Automatically created module for IPython interactive environment', '__package__': None, '__loader__': None, '__spec__': None, '__builtin__': <module 'builtins' (built-in)>, '__builtins__': <module 'builtins' (built-in)>, '_ih': ['', 'print(ascii(\"r%02is r\"))', 'x = divmod(5, 2)\\nprint(x)', 'print(abs(-10))', 'print(all([True, True, True]))', 'print(any([True, False, False]))', 'print(ascii(\"r%02is r\"))', 'print(bin(100))', 'print(bool(0))', 'print(bytes(4))', 'def x():\\n    a = 5  # noqa: F841\\n\\n\\ny = 10\\n\\n\\nprint(callable(x))\\nprint(callable(y))', 'print(chr(120))', 'x = compile(\"print(55)\", \"test\", \"eval\")\\nexec(x)', 'x = complex(3, 5)\\nprint(x)', 'class Person:\\n    name = \"John\"\\n    age = 36\\n    country = \"Norway\"\\n\\n\\ndelattr(Person, \"age\")', 'x = dict(name=\"John\", age=36, country=\"Norway\")\\nprint(x)', 'class Person:\\n    name = \"John\"\\n    age = 36\\n    country = \"Norway\"\\n\\n\\nprint(dir(Person))', 'x = divmod(5, 2)\\nprint(x)', 'x = (\"apple\", \"banana\", \"cherry\")\\ny = enumerate(x)\\n\\n# Iterate through the enumerate object and print index and value\\nfor index, value in y:\\n    print(index, value)', 'x = \"print(55)\"\\neval(x)', 'x = \\'name = \"John\"\\\\nprint(name)\\'\\nexec(x)', 'ages = [5, 12, 17, 18, 24, 32]\\n\\n\\ndef myFunc(x):\\n    if x < 18:\\n        return False\\n    else:\\n        return True\\n\\n\\n# filter(function , Iterable)\\nadults = filter(myFunc, ages)\\nfor x in adults:\\n    print(x)', 'x = float(3)\\nprint(x)', 'x = format(0.5, \"f\")\\n# \\'<\\' - Left aligns the result (within the available space)\\n# \\'>\\' - Right aligns the result (within the available space)\\n# \\'^\\' - Center aligns the result (within the available space)\\n# \\'=\\' - Places the sign to the left most position\\n# \\'+\\' - Use a plus sign to indicate if the result is positive or negative\\n# \\'-\\' - Use a minus sign for negative values only\\n# \\' \\' - Use a leading space for positive numbers\\n# \\',\\' - Use a comma as a thousand separator\\n# \\'_\\' - Use a underscore as a thousand separator\\n# \\'b\\' - Binary format\\n# \\'c\\' - Converts the value into the corresponding unicode character\\n# \\'d\\' - Decimal format\\n# \\'e\\' - Scientific format, with a lower case e\\n# \\'E\\' - Scientific format, with an upper case E\\n# \\'f\\' - Fix point number format\\n# \\'F\\' - Fix point number format, upper case\\n# \\'g\\' - General format\\n# \\'G\\' - General format (using a upper case E for scientific notations)\\n# \\'o\\' - Octal format\\n# \\'x\\' - Hex format, lower case\\n# \\'X\\' - Hex format, upper case\\n# \\'n\\' - Number format\\n# \\'%\\' - Percentage format\\nprint(x)', 'mylist = [\"apple\", \"banana\", \"cherry\"]\\nx = frozenset(mylist)\\nprint(x)', 'class Person:\\n    name = \"John\"\\n    age = 36\\n    country = \"Norway\"\\n\\n\\nx = getattr(Person, \"age\")\\nprint(x)', 'x = globals()\\nprint(x)', 'class Person:\\n    name = \"John\"\\n    age = 36\\n    country = \"Norway\"\\n\\n\\nx = hasattr(Person, \"age\")\\nprint(x)', 'x = hex(255)\\nprint(x)', 'x = (\"apple\", \"banana\", \"cherry\")\\ny = id(x)\\nprint(y)', '# print(\"Enter your name:\")\\n# x = input()\\n# print(\"Hello, \" + x)', 'x = int(3.5)\\nprint(x)', 'x = isinstance(5, int)\\nprint(x)', 'class myAge:\\n    age = 36\\n\\n\\nclass myObj(myAge):\\n    name = \"John\"\\n    age = myAge\\n\\n\\nx = issubclass(myObj, myAge)\\nprint(x)', 'x = iter([\"apple\", \"banana\", \"cherry\"])\\nprint(next(x))\\nprint(next(x))\\nprint(next(x))', 'mylist = [\"apple\", \"banana\", \"cherry\"]\\nx = len(mylist)\\nprint(x)', 'x = list((\"apple\", \"banana\", \"cherry\"))\\nprint(x)', 'rr = locals()\\nprint(rr)'], '_oh': {}, '_dh': [WindowsPath('d:/Narayana Lvsaln/Code It/Python Practice'), WindowsPath('d:/Narayana Lvsaln/Code It/Python Practice')], 'In': ['', 'print(ascii(\"r%02is r\"))', 'x = divmod(5, 2)\\nprint(x)', 'print(abs(-10))', 'print(all([True, True, True]))', 'print(any([True, False, False]))', 'print(ascii(\"r%02is r\"))', 'print(bin(100))', 'print(bool(0))', 'print(bytes(4))', 'def x():\\n    a = 5  # noqa: F841\\n\\n\\ny = 10\\n\\n\\nprint(callable(x))\\nprint(callable(y))', 'print(chr(120))', 'x = compile(\"print(55)\", \"test\", \"eval\")\\nexec(x)', 'x = complex(3, 5)\\nprint(x)', 'class Person:\\n    name = \"John\"\\n    age = 36\\n    country = \"Norway\"\\n\\n\\ndelattr(Person, \"age\")', 'x = dict(name=\"John\", age=36, country=\"Norway\")\\nprint(x)', 'class Person:\\n    name = \"John\"\\n    age = 36\\n    country = \"Norway\"\\n\\n\\nprint(dir(Person))', 'x = divmod(5, 2)\\nprint(x)', 'x = (\"apple\", \"banana\", \"cherry\")\\ny = enumerate(x)\\n\\n# Iterate through the enumerate object and print index and value\\nfor index, value in y:\\n    print(index, value)', 'x = \"print(55)\"\\neval(x)', 'x = \\'name = \"John\"\\\\nprint(name)\\'\\nexec(x)', 'ages = [5, 12, 17, 18, 24, 32]\\n\\n\\ndef myFunc(x):\\n    if x < 18:\\n        return False\\n    else:\\n        return True\\n\\n\\n# filter(function , Iterable)\\nadults = filter(myFunc, ages)\\nfor x in adults:\\n    print(x)', 'x = float(3)\\nprint(x)', 'x = format(0.5, \"f\")\\n# \\'<\\' - Left aligns the result (within the available space)\\n# \\'>\\' - Right aligns the result (within the available space)\\n# \\'^\\' - Center aligns the result (within the available space)\\n# \\'=\\' - Places the sign to the left most position\\n# \\'+\\' - Use a plus sign to indicate if the result is positive or negative\\n# \\'-\\' - Use a minus sign for negative values only\\n# \\' \\' - Use a leading space for positive numbers\\n# \\',\\' - Use a comma as a thousand separator\\n# \\'_\\' - Use a underscore as a thousand separator\\n# \\'b\\' - Binary format\\n# \\'c\\' - Converts the value into the corresponding unicode character\\n# \\'d\\' - Decimal format\\n# \\'e\\' - Scientific format, with a lower case e\\n# \\'E\\' - Scientific format, with an upper case E\\n# \\'f\\' - Fix point number format\\n# \\'F\\' - Fix point number format, upper case\\n# \\'g\\' - General format\\n# \\'G\\' - General format (using a upper case E for scientific notations)\\n# \\'o\\' - Octal format\\n# \\'x\\' - Hex format, lower case\\n# \\'X\\' - Hex format, upper case\\n# \\'n\\' - Number format\\n# \\'%\\' - Percentage format\\nprint(x)', 'mylist = [\"apple\", \"banana\", \"cherry\"]\\nx = frozenset(mylist)\\nprint(x)', 'class Person:\\n    name = \"John\"\\n    age = 36\\n    country = \"Norway\"\\n\\n\\nx = getattr(Person, \"age\")\\nprint(x)', 'x = globals()\\nprint(x)', 'class Person:\\n    name = \"John\"\\n    age = 36\\n    country = \"Norway\"\\n\\n\\nx = hasattr(Person, \"age\")\\nprint(x)', 'x = hex(255)\\nprint(x)', 'x = (\"apple\", \"banana\", \"cherry\")\\ny = id(x)\\nprint(y)', '# print(\"Enter your name:\")\\n# x = input()\\n# print(\"Hello, \" + x)', 'x = int(3.5)\\nprint(x)', 'x = isinstance(5, int)\\nprint(x)', 'class myAge:\\n    age = 36\\n\\n\\nclass myObj(myAge):\\n    name = \"John\"\\n    age = myAge\\n\\n\\nx = issubclass(myObj, myAge)\\nprint(x)', 'x = iter([\"apple\", \"banana\", \"cherry\"])\\nprint(next(x))\\nprint(next(x))\\nprint(next(x))', 'mylist = [\"apple\", \"banana\", \"cherry\"]\\nx = len(mylist)\\nprint(x)', 'x = list((\"apple\", \"banana\", \"cherry\"))\\nprint(x)', 'rr = locals()\\nprint(rr)'], 'Out': {}, 'get_ipython': <bound method InteractiveShell.get_ipython of <ipykernel.zmqshell.ZMQInteractiveShell object at 0x000001F37B627290>>, 'exit': <IPython.core.autocall.ZMQExitAutocall object at 0x000001F37B627980>, 'quit': <IPython.core.autocall.ZMQExitAutocall object at 0x000001F37B627980>, 'open': <function open at 0x000001F37977FC40>, '_': '', '__': '', '___': '', '__vsc_ipynb_file__': 'd:\\\\Narayana Lvsaln\\\\Code It\\\\Python Practice\\\\Builtin_Functions.ipynb', '_i': 'x = list((\"apple\", \"banana\", \"cherry\"))\\nprint(x)', '_ii': 'mylist = [\"apple\", \"banana\", \"cherry\"]\\nx = len(mylist)\\nprint(x)', '_iii': 'x = iter([\"apple\", \"banana\", \"cherry\"])\\nprint(next(x))\\nprint(next(x))\\nprint(next(x))', '_i1': 'print(ascii(\"r%02is r\"))', '_i2': 'x = divmod(5, 2)\\nprint(x)', 'x': ['apple', 'banana', 'cherry'], '_i3': 'print(abs(-10))', '_i4': 'print(all([True, True, True]))', '_i5': 'print(any([True, False, False]))', '_i6': 'print(ascii(\"r%02is r\"))', '_i7': 'print(bin(100))', '_i8': 'print(bool(0))', '_i9': 'print(bytes(4))', '_i10': 'def x():\\n    a = 5  # noqa: F841\\n\\n\\ny = 10\\n\\n\\nprint(callable(x))\\nprint(callable(y))', 'y': 2145259184640, '_i11': 'print(chr(120))', '_i12': 'x = compile(\"print(55)\", \"test\", \"eval\")\\nexec(x)', '_i13': 'x = complex(3, 5)\\nprint(x)', '_i14': 'class Person:\\n    name = \"John\"\\n    age = 36\\n    country = \"Norway\"\\n\\n\\ndelattr(Person, \"age\")', 'Person': <class '__main__.Person'>, '_i15': 'x = dict(name=\"John\", age=36, country=\"Norway\")\\nprint(x)', '_i16': 'class Person:\\n    name = \"John\"\\n    age = 36\\n    country = \"Norway\"\\n\\n\\nprint(dir(Person))', '_i17': 'x = divmod(5, 2)\\nprint(x)', '_i18': 'x = (\"apple\", \"banana\", \"cherry\")\\ny = enumerate(x)\\n\\n# Iterate through the enumerate object and print index and value\\nfor index, value in y:\\n    print(index, value)', 'index': 2, 'value': 'cherry', '_i19': 'x = \"print(55)\"\\neval(x)', '_i20': 'x = \\'name = \"John\"\\\\nprint(name)\\'\\nexec(x)', 'name': 'John', '_i21': 'ages = [5, 12, 17, 18, 24, 32]\\n\\n\\ndef myFunc(x):\\n    if x < 18:\\n        return False\\n    else:\\n        return True\\n\\n\\n# filter(function , Iterable)\\nadults = filter(myFunc, ages)\\nfor x in adults:\\n    print(x)', 'ages': [5, 12, 17, 18, 24, 32], 'myFunc': <function myFunc at 0x000001F37B666160>, 'adults': <filter object at 0x000001F37B68D8D0>, '_i22': 'x = float(3)\\nprint(x)', '_i23': 'x = format(0.5, \"f\")\\n# \\'<\\' - Left aligns the result (within the available space)\\n# \\'>\\' - Right aligns the result (within the available space)\\n# \\'^\\' - Center aligns the result (within the available space)\\n# \\'=\\' - Places the sign to the left most position\\n# \\'+\\' - Use a plus sign to indicate if the result is positive or negative\\n# \\'-\\' - Use a minus sign for negative values only\\n# \\' \\' - Use a leading space for positive numbers\\n# \\',\\' - Use a comma as a thousand separator\\n# \\'_\\' - Use a underscore as a thousand separator\\n# \\'b\\' - Binary format\\n# \\'c\\' - Converts the value into the corresponding unicode character\\n# \\'d\\' - Decimal format\\n# \\'e\\' - Scientific format, with a lower case e\\n# \\'E\\' - Scientific format, with an upper case E\\n# \\'f\\' - Fix point number format\\n# \\'F\\' - Fix point number format, upper case\\n# \\'g\\' - General format\\n# \\'G\\' - General format (using a upper case E for scientific notations)\\n# \\'o\\' - Octal format\\n# \\'x\\' - Hex format, lower case\\n# \\'X\\' - Hex format, upper case\\n# \\'n\\' - Number format\\n# \\'%\\' - Percentage format\\nprint(x)', '_i24': 'mylist = [\"apple\", \"banana\", \"cherry\"]\\nx = frozenset(mylist)\\nprint(x)', 'mylist': ['apple', 'banana', 'cherry'], '_i25': 'class Person:\\n    name = \"John\"\\n    age = 36\\n    country = \"Norway\"\\n\\n\\nx = getattr(Person, \"age\")\\nprint(x)', '_i26': 'x = globals()\\nprint(x)', '_i27': 'class Person:\\n    name = \"John\"\\n    age = 36\\n    country = \"Norway\"\\n\\n\\nx = hasattr(Person, \"age\")\\nprint(x)', '_i28': 'x = hex(255)\\nprint(x)', '_i29': 'x = (\"apple\", \"banana\", \"cherry\")\\ny = id(x)\\nprint(y)', '_i30': '# print(\"Enter your name:\")\\n# x = input()\\n# print(\"Hello, \" + x)', '_i31': 'x = int(3.5)\\nprint(x)', '_i32': 'x = isinstance(5, int)\\nprint(x)', '_i33': 'class myAge:\\n    age = 36\\n\\n\\nclass myObj(myAge):\\n    name = \"John\"\\n    age = myAge\\n\\n\\nx = issubclass(myObj, myAge)\\nprint(x)', 'myAge': <class '__main__.myAge'>, 'myObj': <class '__main__.myObj'>, '_i34': 'x = iter([\"apple\", \"banana\", \"cherry\"])\\nprint(next(x))\\nprint(next(x))\\nprint(next(x))', '_i35': 'mylist = [\"apple\", \"banana\", \"cherry\"]\\nx = len(mylist)\\nprint(x)', '_i36': 'x = list((\"apple\", \"banana\", \"cherry\"))\\nprint(x)', '_i37': 'rr = locals()\\nprint(rr)', 'rr': {...}}\n"
     ]
    }
   ],
   "source": [
    "rr = locals()\n",
    "print(rr)\n"
   ]
  },
  {
   "cell_type": "markdown",
   "metadata": {},
   "source": [
    "# map()\n",
    "\n",
    "### Returns the specified iterator with the specified function applied to each item\n"
   ]
  },
  {
   "cell_type": "code",
   "execution_count": 38,
   "metadata": {},
   "outputs": [],
   "source": [
    "def myfunc(n):\n",
    "    return len(n)\n",
    "\n",
    "\n",
    "# map(function, iterables)\n",
    "x = map(myfunc, (\"apple\", \"banana\", \"cherry\"))\n"
   ]
  },
  {
   "cell_type": "markdown",
   "metadata": {},
   "source": [
    "# max()\n",
    "\n",
    "### Returns the largest item in an iterable\n"
   ]
  },
  {
   "cell_type": "code",
   "execution_count": 39,
   "metadata": {},
   "outputs": [
    {
     "name": "stdout",
     "output_type": "stream",
     "text": [
      "10\n"
     ]
    }
   ],
   "source": [
    "x = max(5, 10)\n",
    "print(x)\n"
   ]
  },
  {
   "cell_type": "markdown",
   "metadata": {},
   "source": [
    "# memoryview()\n",
    "\n",
    "### Returns a memory view object\n"
   ]
  },
  {
   "cell_type": "code",
   "execution_count": 40,
   "metadata": {},
   "outputs": [
    {
     "name": "stdout",
     "output_type": "stream",
     "text": [
      "<memory at 0x000001F37B4D5480>\n",
      "72\n",
      "101\n"
     ]
    }
   ],
   "source": [
    "x = memoryview(b\"Hello\")\n",
    "\n",
    "print(x)\n",
    "\n",
    "# return the Unicode of the first character\n",
    "print(x[0])\n",
    "\n",
    "# return the Unicode of the second character\n",
    "print(x[1])\n"
   ]
  },
  {
   "cell_type": "markdown",
   "metadata": {},
   "source": [
    "# min()\n",
    "\n",
    "### Returns the smallest item in an iterable\n"
   ]
  },
  {
   "cell_type": "code",
   "execution_count": 41,
   "metadata": {},
   "outputs": [
    {
     "name": "stdout",
     "output_type": "stream",
     "text": [
      "5\n"
     ]
    }
   ],
   "source": [
    "x = min(5, 10)\n",
    "print(x)\n"
   ]
  },
  {
   "cell_type": "markdown",
   "metadata": {},
   "source": [
    "# next()\n",
    "\n",
    "### Returns the next item in an iterable\n"
   ]
  },
  {
   "cell_type": "code",
   "execution_count": 42,
   "metadata": {},
   "outputs": [
    {
     "name": "stdout",
     "output_type": "stream",
     "text": [
      "apple\n",
      "banana\n",
      "cherry\n"
     ]
    }
   ],
   "source": [
    "mylist = iter([\"apple\", \"banana\", \"cherry\"])\n",
    "x = next(mylist)\n",
    "print(x)\n",
    "x = next(mylist)\n",
    "print(x)\n",
    "x = next(mylist)\n",
    "print(x)\n"
   ]
  },
  {
   "cell_type": "markdown",
   "metadata": {},
   "source": [
    "# object()\n",
    "\n",
    "### Returns a new object\n"
   ]
  },
  {
   "cell_type": "code",
   "execution_count": 43,
   "metadata": {},
   "outputs": [
    {
     "name": "stdout",
     "output_type": "stream",
     "text": [
      "<object object at 0x000001F37B51D4E0>\n"
     ]
    }
   ],
   "source": [
    "x = object()\n",
    "print(x)\n"
   ]
  },
  {
   "cell_type": "markdown",
   "metadata": {},
   "source": [
    "# oct()\n",
    "\n",
    "### Converts a number into an octal\n"
   ]
  },
  {
   "cell_type": "code",
   "execution_count": 44,
   "metadata": {},
   "outputs": [
    {
     "name": "stdout",
     "output_type": "stream",
     "text": [
      "0o14\n"
     ]
    }
   ],
   "source": [
    "x = oct(12)\n",
    "print(x)\n"
   ]
  },
  {
   "cell_type": "markdown",
   "metadata": {},
   "source": [
    "# open()\n",
    "\n",
    "### Opens a file and returns a file object\n"
   ]
  },
  {
   "cell_type": "code",
   "execution_count": null,
   "metadata": {},
   "outputs": [],
   "source": []
  },
  {
   "cell_type": "markdown",
   "metadata": {},
   "source": [
    "# pow()\n",
    "\n",
    "### Returns the value of x to the power of y\n"
   ]
  },
  {
   "cell_type": "code",
   "execution_count": 45,
   "metadata": {},
   "outputs": [
    {
     "name": "stdout",
     "output_type": "stream",
     "text": [
      "64\n"
     ]
    }
   ],
   "source": [
    "x = pow(4, 3)\n",
    "print(x)\n"
   ]
  },
  {
   "cell_type": "markdown",
   "metadata": {},
   "source": [
    "# print()\n",
    "\n",
    "### Prints to the standard output device\n"
   ]
  },
  {
   "cell_type": "code",
   "execution_count": 46,
   "metadata": {},
   "outputs": [
    {
     "name": "stdout",
     "output_type": "stream",
     "text": [
      "Hello World\n"
     ]
    }
   ],
   "source": [
    "print(\"Hello World\")\n"
   ]
  },
  {
   "cell_type": "markdown",
   "metadata": {},
   "source": [
    "# range()\n",
    "\n",
    "### Returns a sequence of numbers, starting from 0 and increments by 1 (by default)\n"
   ]
  },
  {
   "cell_type": "code",
   "execution_count": 47,
   "metadata": {},
   "outputs": [
    {
     "name": "stdout",
     "output_type": "stream",
     "text": [
      "0\n",
      "1\n",
      "2\n",
      "3\n",
      "4\n",
      "5\n"
     ]
    }
   ],
   "source": [
    "x = range(6)\n",
    "for n in x:\n",
    "    print(n)\n"
   ]
  },
  {
   "cell_type": "markdown",
   "metadata": {},
   "source": [
    "# repr()\n",
    "\n",
    "### Returns a readable version of an object\n"
   ]
  },
  {
   "cell_type": "code",
   "execution_count": null,
   "metadata": {},
   "outputs": [],
   "source": []
  },
  {
   "cell_type": "markdown",
   "metadata": {},
   "source": [
    "# reversed()\n",
    "\n",
    "### Returns a reversed iterator\n"
   ]
  },
  {
   "cell_type": "code",
   "execution_count": 48,
   "metadata": {},
   "outputs": [
    {
     "name": "stdout",
     "output_type": "stream",
     "text": [
      "d\n",
      "c\n",
      "b\n",
      "a\n"
     ]
    }
   ],
   "source": [
    "alph = [\"a\", \"b\", \"c\", \"d\"]\n",
    "ralph = reversed(alph)\n",
    "for x in ralph:\n",
    "    print(x)\n"
   ]
  },
  {
   "cell_type": "markdown",
   "metadata": {},
   "source": [
    "# round()\n",
    "\n",
    "### Rounds a numbers\n"
   ]
  },
  {
   "cell_type": "code",
   "execution_count": null,
   "metadata": {},
   "outputs": [],
   "source": []
  },
  {
   "cell_type": "markdown",
   "metadata": {},
   "source": [
    "# set()\n",
    "\n",
    "### Returns a new set object\n"
   ]
  },
  {
   "cell_type": "code",
   "execution_count": 49,
   "metadata": {},
   "outputs": [
    {
     "name": "stdout",
     "output_type": "stream",
     "text": [
      "{'apple', 'banana', 'cherry'}\n"
     ]
    }
   ],
   "source": [
    "x = set((\"apple\", \"banana\", \"cherry\"))\n",
    "print(x)\n"
   ]
  },
  {
   "cell_type": "markdown",
   "metadata": {},
   "source": [
    "# setattr()\n",
    "\n",
    "### Sets an attribute (property/method) of an object\n"
   ]
  },
  {
   "cell_type": "code",
   "execution_count": 50,
   "metadata": {},
   "outputs": [],
   "source": [
    "class Person:\n",
    "    name = \"John\"\n",
    "    age = 36\n",
    "    country = \"Norway\"\n",
    "\n",
    "\n",
    "setattr(Person, \"age\", 40)\n"
   ]
  },
  {
   "cell_type": "markdown",
   "metadata": {},
   "source": [
    "# slice()\n",
    "\n",
    "### Returns a slice object\n"
   ]
  },
  {
   "cell_type": "code",
   "execution_count": 51,
   "metadata": {},
   "outputs": [
    {
     "name": "stdout",
     "output_type": "stream",
     "text": [
      "slice(None, 2, None)\n",
      "('a', 'b')\n"
     ]
    }
   ],
   "source": [
    "a = (\"a\", \"b\", \"c\", \"d\", \"e\", \"f\", \"g\", \"h\")\n",
    "x = slice(2)\n",
    "print(x)\n",
    "print(a[x])\n"
   ]
  },
  {
   "cell_type": "markdown",
   "metadata": {},
   "source": [
    "# sorted()\n",
    "\n",
    "### Returns a sorted list\n"
   ]
  },
  {
   "cell_type": "code",
   "execution_count": 52,
   "metadata": {},
   "outputs": [
    {
     "name": "stdout",
     "output_type": "stream",
     "text": [
      "['a', 'b', 'c', 'd', 'e', 'f', 'g', 'h']\n"
     ]
    }
   ],
   "source": [
    "a = (\"b\", \"g\", \"a\", \"d\", \"f\", \"c\", \"h\", \"e\")\n",
    "x = sorted(a)\n",
    "print(x)\n"
   ]
  },
  {
   "cell_type": "markdown",
   "metadata": {},
   "source": [
    "# str()\n",
    "\n",
    "### Returns a string object\n"
   ]
  },
  {
   "cell_type": "code",
   "execution_count": 53,
   "metadata": {},
   "outputs": [
    {
     "name": "stdout",
     "output_type": "stream",
     "text": [
      "3.5\n"
     ]
    }
   ],
   "source": [
    "x = str(3.5)\n",
    "print(x)\n"
   ]
  },
  {
   "cell_type": "markdown",
   "metadata": {},
   "source": [
    "# sum()\n",
    "\n",
    "### Sums the items of an iterator\n"
   ]
  },
  {
   "cell_type": "code",
   "execution_count": 54,
   "metadata": {},
   "outputs": [
    {
     "name": "stdout",
     "output_type": "stream",
     "text": [
      "9\n"
     ]
    }
   ],
   "source": [
    "a = (1, 2, 3, 4, 5)\n",
    "b = [1, 2, 3, 3]\n",
    "x = sum(b)\n",
    "print(x)\n"
   ]
  },
  {
   "cell_type": "markdown",
   "metadata": {},
   "source": [
    "# super()\n",
    "\n",
    "### Returns an object that represents the parent class\n"
   ]
  },
  {
   "cell_type": "code",
   "execution_count": null,
   "metadata": {},
   "outputs": [],
   "source": []
  },
  {
   "cell_type": "markdown",
   "metadata": {},
   "source": [
    "# tuple()\n",
    "\n",
    "### Returns a tuple\n"
   ]
  },
  {
   "cell_type": "code",
   "execution_count": 55,
   "metadata": {},
   "outputs": [
    {
     "name": "stdout",
     "output_type": "stream",
     "text": [
      "('apple', 'banana', 'cherry')\n"
     ]
    }
   ],
   "source": [
    "x = tuple((\"apple\", \"banana\", \"cherry\"))\n",
    "print(x)\n"
   ]
  },
  {
   "cell_type": "markdown",
   "metadata": {},
   "source": [
    "# type()\n",
    "\n",
    "### Returns the type of an object\n"
   ]
  },
  {
   "cell_type": "code",
   "execution_count": 56,
   "metadata": {},
   "outputs": [
    {
     "name": "stdout",
     "output_type": "stream",
     "text": [
      "<class 'tuple'>\n",
      "<class 'tuple'>\n",
      "<class 'str'>\n"
     ]
    }
   ],
   "source": [
    "a = (\"apple\", \"banana\", \"cherry\")\n",
    "b = \"Hello World\"\n",
    "c = 33\n",
    "\n",
    "x = type(a)\n",
    "y = type(b)\n",
    "z = type(c)\n",
    "print(x)\n",
    "print(x)\n",
    "print(y)\n"
   ]
  },
  {
   "cell_type": "markdown",
   "metadata": {},
   "source": [
    "# vars()\n",
    "\n",
    "### Returns the **dict** property of an object\n"
   ]
  },
  {
   "cell_type": "code",
   "execution_count": 57,
   "metadata": {},
   "outputs": [
    {
     "name": "stdout",
     "output_type": "stream",
     "text": [
      "{'__module__': '__main__', 'name': 'John', 'age': 36, 'country': 'norway', '__dict__': <attribute '__dict__' of 'Person' objects>, '__weakref__': <attribute '__weakref__' of 'Person' objects>, '__doc__': None}\n"
     ]
    }
   ],
   "source": [
    "class Person:\n",
    "    name = \"John\"\n",
    "    age = 36\n",
    "    country = \"norway\"\n",
    "\n",
    "\n",
    "x = vars(Person)\n",
    "print(x)\n"
   ]
  },
  {
   "cell_type": "markdown",
   "metadata": {},
   "source": [
    "# zip()\n",
    "\n",
    "### Returns an iterator, from two or more iterators\n"
   ]
  },
  {
   "cell_type": "code",
   "execution_count": 58,
   "metadata": {},
   "outputs": [
    {
     "name": "stdout",
     "output_type": "stream",
     "text": [
      "[('John', 'Jenny'), ('Charles', 'Christy'), ('Mike', 'Monica')]\n"
     ]
    }
   ],
   "source": [
    "a = (\"John\", \"Charles\", \"Mike\")\n",
    "b = (\"Jenny\", \"Christy\", \"Monica\")\n",
    "\n",
    "x = zip(a, b)\n",
    "print(list(x))\n",
    "# %% [markdown]\n"
   ]
  }
 ],
 "metadata": {
  "kernelspec": {
   "display_name": "Python 3",
   "language": "python",
   "name": "python3"
  },
  "language_info": {
   "codemirror_mode": {
    "name": "ipython",
    "version": 3
   },
   "file_extension": ".py",
   "mimetype": "text/x-python",
   "name": "python",
   "nbconvert_exporter": "python",
   "pygments_lexer": "ipython3",
   "version": "3.12.2"
  }
 },
 "nbformat": 4,
 "nbformat_minor": 2
}
