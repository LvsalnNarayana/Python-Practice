{
 "cells": [
  {
   "cell_type": "markdown",
   "metadata": {},
   "source": [
    "# Value equal to index value\n",
    "\n",
    "Given an array Arr of N positive integers. Your task is to find the elements whose value is equal to that of its index value ( Consider 1-based indexing ).\n",
    "\n",
    "Note: There can be more than one element in the array which have the same value as its index. You need to include every such element's index. Follows 1-based indexing of the array.\n",
    "\n",
    "#### Example 1:\n",
    "\n",
    "**Input:**\n",
    "\n",
    "N = 5\n",
    "Arr[] = {15, 2, 45, 12, 7}\n",
    "\n",
    "**Output:** 2\n",
    "\n",
    "**Explanation:** Only Arr[2] = 2 exists here.\n",
    "\n",
    "#### Example 2:\n",
    "\n",
    "**Input:**\n",
    "\n",
    "N = 1\n",
    "Arr[] = {1}\n",
    "\n",
    "**Output:** 1\n",
    "\n",
    "**Explanation:** Here Arr[1] = 1 exists.\n",
    "\n",
    "### Your Task:\n",
    "\n",
    "You don't need to read input or print anything. Your task is to complete the function valueEqualToIndex() which takes the array of integers arr[] and n as parameters and returns an array of indices where the given conditions are satisfied. When there is no such element exists then return an empty array of length 0. For C users, you need to modify the array(arr), in place such that the indices not in the final answer should be marked 0.\n",
    "\n",
    "Expected Time Complexity: O(N)\n",
    "Expected Auxiliary Space: O(k), where k is the number of elements which satisfy arr[i]=i+1.\n",
    "\n",
    "Constraints:\n",
    "1 ≤ N ≤ 105\n",
    "1 ≤ Arr[i] ≤ 106\n"
   ]
  },
  {
   "cell_type": "code",
   "execution_count": 63,
   "metadata": {},
   "outputs": [
    {
     "data": {
      "text/plain": [
       "[2]"
      ]
     },
     "execution_count": 63,
     "metadata": {},
     "output_type": "execute_result"
    }
   ],
   "source": [
    "def valueEqualToIndex(arr, n):\n",
    "    # code here\n",
    "    result = []\n",
    "    for x in range(1, n + 1):\n",
    "        if x == arr[x - 1]:\n",
    "            result.append(arr[x - 1])\n",
    "    return result\n",
    "\n",
    "\n",
    "valueEqualToIndex([15, 2, 45, 12, 7], 5)"
   ]
  },
  {
   "cell_type": "markdown",
   "metadata": {},
   "source": [
    "# Print 1 To N Without Loop\n",
    "\n",
    "Print numbers from 1 to n without the help of loops. You only need to complete the function printNos() that takes N as parameter and prints number from 1 to N recursively.\n",
    "\n",
    "Don't print newline, it will be added by the driver code.\n",
    "\n",
    "#### Examples\n",
    "\n",
    "**Input:** n = 10\n",
    "**Output:** 1 2 3 4 5 6 7 8 9 10\n",
    "\n",
    "**Input:** n = 5\n",
    "**Output:** 1 2 3 4 5\n",
    "\n",
    "Expected Time Complexity: O(n).\n",
    "Expected Auxiliary Space: O(n) (Recursive).\n",
    "\n",
    "Constraints:\n",
    "1 <= n <= 1000\n"
   ]
  },
  {
   "cell_type": "code",
   "execution_count": 25,
   "metadata": {},
   "outputs": [
    {
     "name": "stdout",
     "output_type": "stream",
     "text": [
      "1 2 3 4 5 6 7 8 9 10 "
     ]
    }
   ],
   "source": [
    "def printNos(N):\n",
    "    # Your code here\n",
    "    if N < 1:\n",
    "        return\n",
    "    else:\n",
    "        printNos(N - 1)\n",
    "        print(N, end=\" \")\n",
    "\n",
    "\n",
    "printNos(10)"
   ]
  },
  {
   "cell_type": "markdown",
   "metadata": {},
   "source": [
    "# Print alternate elements of an array\n",
    "\n",
    "You are given an array A of size N. You need to print elements of A in alternate order (starting from index 0).\n",
    "\n",
    "#### Example 1:\n",
    "\n",
    "**Input:**\n",
    "\n",
    "N = 4\n",
    "A[] = {1, 2, 3, 4}\n",
    "\n",
    "**Output:**\n",
    "\n",
    "1 3\n",
    "\n",
    "#### Example 2:\n",
    "\n",
    "**Input:**\n",
    "\n",
    "N = 5\n",
    "A[] = {1, 2, 3, 4, 5}\n",
    "\n",
    "**Output:**\n",
    "\n",
    "1 3 5\n",
    "\n",
    "Your Task:\n",
    "Since this is a function problem, you just need to complete the provided function print() which takes A and n as input parameters and print the resultant array in the function itself. You have to print the final number of array ending with a space as Printing of newline character is taken care in driver code itself.\n",
    "\n",
    "Constraints:\n",
    "1 <= N <= 105\n",
    "1 <= Ai <= 105\n",
    "\n",
    "Expected Time Complexity: O(n)\n",
    "Expected Auxiliary Space: O(1)\n"
   ]
  },
  {
   "cell_type": "code",
   "execution_count": 65,
   "metadata": {},
   "outputs": [
    {
     "name": "stdout",
     "output_type": "stream",
     "text": [
      "2\n",
      "4\n",
      "6\n"
     ]
    }
   ],
   "source": [
    "def printAl(arr, n):\n",
    "    [print(arr[i]) for i in range(n) if i % 2 != 0]\n",
    "\n",
    "\n",
    "printAl([1, 2, 3, 4, 5, 6], 6)"
   ]
  },
  {
   "cell_type": "markdown",
   "metadata": {},
   "source": [
    "# Palindromic Array\n",
    "\n",
    "Given a Integer array A[] of n elements. Your task is to complete the function PalinArray. Which will return 1 if all the elements of the Array are palindrome otherwise it will return 0.\n",
    "\n",
    "#### Example 1:\n",
    "\n",
    "**Input:**\n",
    "\n",
    "5\n",
    "111 222 333 444 555\n",
    "\n",
    "**Output:**\n",
    "\n",
    "1\n",
    "\n",
    "Explanation:\n",
    "\n",
    "A[0] = 111 //which is a palindrome number.\n",
    "A[1] = 222 //which is a palindrome number.\n",
    "A[2] = 333 //which is a palindrome number.\n",
    "A[3] = 444 //which is a palindrome number.\n",
    "A[4] = 555 //which is a palindrome number.\n",
    "As all numbers are palindrome so This will return 1.\n",
    "\n",
    "#### Example 2:\n",
    "\n",
    "**Input:**\n",
    "\n",
    "3\n",
    "121 131 20\n",
    "\n",
    "**Output:**\n",
    "\n",
    "0\n",
    "\n",
    "Explanation:\n",
    "20 is not a palindrome hence the output is 0.\n",
    "\n",
    "Constraints:\n",
    "1 <=T<= 50\n",
    "1 <=n<= 20\n",
    "1 <=A[]<= 105\n"
   ]
  },
  {
   "cell_type": "code",
   "execution_count": 30,
   "metadata": {},
   "outputs": [
    {
     "data": {
      "text/plain": [
       "0"
      ]
     },
     "execution_count": 30,
     "metadata": {},
     "output_type": "execute_result"
    }
   ],
   "source": [
    "def PalinArray(arr, n):\n",
    "    for x in arr:\n",
    "        if str(abs(x)) == str(abs(x))[::-1]:\n",
    "            continue\n",
    "        else:\n",
    "            return 0\n",
    "    return 1\n",
    "\n",
    "\n",
    "PalinArray([121, 222, 333, 4454], 4)"
   ]
  },
  {
   "cell_type": "code",
   "execution_count": 46,
   "metadata": {},
   "outputs": [
    {
     "name": "stdout",
     "output_type": "stream",
     "text": [
      "4 4 4 4 3 3 3 3 2 2 2 2 1 1 1 1 $4 4 4 3 3 3 2 2 2 1 1 1 $4 4 3 3 2 2 1 1 $4 3 2 1 $"
     ]
    }
   ],
   "source": [
    "def printPat(n):\n",
    "    for i in range(1, n + 1):\n",
    "        for j in range(n):\n",
    "            print(f\"{n-j} \" * (n - i + 1), end=\"\")\n",
    "        print(\"$\", end=\"\")\n",
    "\n",
    "\n",
    "printPat(4)"
   ]
  },
  {
   "cell_type": "markdown",
   "metadata": {},
   "source": [
    "# Find the median\n",
    "\n",
    "Given an array arr[] of N integers, calculate the median.\n",
    "\n",
    "NOTE: Return the floor value of the median.\n",
    "\n",
    "#### Example 1:\n",
    "\n",
    "**Input:**\n",
    "\n",
    "N = 5\n",
    "arr[] = 90 100 78 89 67\n",
    "\n",
    "**Output:** 89\n",
    "\n",
    "Explanation: After sorting the array\n",
    "middle element is the median\n",
    "\n",
    "#### Example 2:\n",
    "\n",
    "**Input:**\n",
    "\n",
    "N = 4\n",
    "arr[] = 56 67 30 79\n",
    "\n",
    "**Output:** 61\n",
    "Explanation: In case of even number of\n",
    "elements, average of two middle elements\n",
    "is the median.\n",
    "\n",
    "Your Task:\n",
    "You don't need to read or print anything. Your task is to complete the function find_median() which takes the array as input parameter and return the floor value of the median.\n",
    "\n",
    "Expected Time Complexity: O(n \\* log(n))\n",
    "Expected Space Complexity: O(1)\n",
    "\n",
    "Constraints:\n",
    "1 <= Length of Array <= 100\n",
    "1 <= Elements of Array <= 100\n"
   ]
  },
  {
   "cell_type": "code",
   "execution_count": 70,
   "metadata": {},
   "outputs": [
    {
     "name": "stdout",
     "output_type": "stream",
     "text": [
      "4\n"
     ]
    }
   ],
   "source": [
    "class Solution:\n",
    "    def findPartitionIndex(self, arr, low, high):\n",
    "        pivot = arr[low]\n",
    "        i = low + 1\n",
    "        j = high\n",
    "\n",
    "        while True:\n",
    "            while i <= j and arr[i] <= pivot:\n",
    "                i += 1\n",
    "            while i <= j and arr[j] >= pivot:\n",
    "                j -= 1\n",
    "            if i <= j:\n",
    "                arr[i], arr[j] = arr[j], arr[i]\n",
    "            else:\n",
    "                break\n",
    "\n",
    "        arr[low], arr[j] = arr[j], arr[low]\n",
    "        return j\n",
    "\n",
    "    def quickSort(self, arr, low, high):\n",
    "        if low < high:\n",
    "            pivotIndex = self.findPartitionIndex(arr, low, high)\n",
    "            self.quickSort(arr, low, pivotIndex - 1)\n",
    "            self.quickSort(arr, pivotIndex + 1, high)\n",
    "        return arr\n",
    "\n",
    "    def find_median(self, v):\n",
    "        sorted_v = self.quickSort(v, 0, len(v) - 1)\n",
    "        n = len(sorted_v)\n",
    "        if n % 2 == 1:\n",
    "            return int(sorted_v[n // 2])\n",
    "        else:\n",
    "            return int((sorted_v[n // 2 - 1] + sorted_v[n // 2]) / 2)\n",
    "\n",
    "\n",
    "print(Solution().find_median([1, 2, 3, 4, 5, 6, 7]))"
   ]
  },
  {
   "cell_type": "markdown",
   "metadata": {},
   "source": [
    "# Sum of Series\n",
    "\n",
    "Write a program to find the sum of the given series 1+2+3+ . . . . . . (n terms)\n",
    "\n",
    "#### Examples:\n",
    "\n",
    "**Input:** n = 1\n",
    "**Output:** 1\n",
    "\n",
    "Explanation: For n = 1, the sum will be 1.\n",
    "\n",
    "**Input:** n = 5\n",
    "**Output:** 15\n",
    "\n",
    "Explanation: For n = 5, sum will be 15. 1 + 2 + 3 + 4 + 5 = 15.\n",
    "\n",
    "Expected Time Complexity: O(1)\n",
    "Expected Auxiliary Space: O(1)\n",
    "\n",
    "Constraints:\n",
    "1 <= n <= 109\n"
   ]
  },
  {
   "cell_type": "code",
   "execution_count": 78,
   "metadata": {},
   "outputs": [
    {
     "name": "stdout",
     "output_type": "stream",
     "text": [
      "15\n"
     ]
    }
   ],
   "source": [
    "def seriesSum(n: int) -> int:\n",
    "    return (n * (n + 1)) // 2\n",
    "\n",
    "\n",
    "print(seriesSum(5))"
   ]
  },
  {
   "cell_type": "markdown",
   "metadata": {},
   "source": [
    "# Check for Binary\n",
    "\n",
    "Given a non-empty sequence of characters str, return true if sequence is Binary, else return false\n",
    "\n",
    "#### Example 1:\n",
    "\n",
    "**Input:**\n",
    "str = 101\n",
    "\n",
    "**Output:**\n",
    "1\n",
    "Explanation:\n",
    "Since string contains only 0 and 1, output is 1.\n",
    "\n",
    "#### Example 2:\n",
    "\n",
    "**Input:**\n",
    "str = 75\n",
    "\n",
    "**Output:**\n",
    "0\n",
    "Explanation:\n",
    "Since string contains digits other than 0 and 1, output is 0.\n",
    "\n",
    "Your Task:\n",
    "Complete the function isBinary() which takes an string str as input parameter and returns 1 if str is binary and returns 0 otherwise.\n",
    "\n",
    "Expected Time Complexity: O(|s|)\n",
    "Expected Auxiliary Space: O(1)\n",
    "\n",
    "Constraints:\n",
    "1 <=T<= 50\n",
    "1 <=Length of str<= 10000\n"
   ]
  },
  {
   "cell_type": "code",
   "execution_count": 134,
   "metadata": {},
   "outputs": [
    {
     "name": "stdout",
     "output_type": "stream",
     "text": [
      "1\n"
     ]
    }
   ],
   "source": [
    "def isBinary(str):\n",
    "    result = 0\n",
    "    for i in range(len(str)):\n",
    "        if result == 0 and i > 0:\n",
    "            return 0\n",
    "        if str[i] in [\"0\", \"1\"]:\n",
    "            result = 1\n",
    "        else:\n",
    "            result = 0\n",
    "    return result\n",
    "\n",
    "\n",
    "print(isBinary(\"0111100110101100\"))"
   ]
  },
  {
   "cell_type": "code",
   "execution_count": 72,
   "metadata": {},
   "outputs": [
    {
     "name": "stdout",
     "output_type": "stream",
     "text": [
      "0\n",
      "1\n",
      "3\n",
      "6\n",
      "3\n",
      "1\n",
      "4\n",
      "1\n",
      "0\n",
      "2\n",
      "5\n",
      "2\n",
      "0\n",
      "3\n",
      "0\n"
     ]
    }
   ],
   "source": [
    "def generateSquence(sequence, index=0, current_subsequence=[]):\n",
    "    sum = 0\n",
    "    for i in current_subsequence:\n",
    "        sum = sum + i\n",
    "    print(sum)\n",
    "    if sum == len(sequence):\n",
    "        # print(current_subsequence)\n",
    "\n",
    "        return\n",
    "\n",
    "    current_subsequence.append(sequence[index])\n",
    "    generateSquence(sequence, index + 1, current_subsequence)\n",
    "\n",
    "    current_subsequence.pop()\n",
    "    generateSquence(sequence, index + 1, current_subsequence)\n",
    "\n",
    "\n",
    "generateSquence([1, 2, 3])"
   ]
  },
  {
   "cell_type": "code",
   "execution_count": 1,
   "metadata": {},
   "outputs": [
    {
     "data": {
      "text/plain": [
       "'NOT PERFECT'"
      ]
     },
     "execution_count": 1,
     "metadata": {},
     "output_type": "execute_result"
    }
   ],
   "source": [
    "def isPerfect(n: int, arr) -> bool:\n",
    "    # code here\n",
    "    return \"PERFECT\" if arr == arr[::-1] else \"NOT PERFECT\"\n",
    "\n",
    "\n",
    "isPerfect(5, [1, 2, 3, 4, 5])"
   ]
  },
  {
   "cell_type": "code",
   "execution_count": 15,
   "metadata": {},
   "outputs": [
    {
     "name": "stdout",
     "output_type": "stream",
     "text": [
      "[5, 6, 7, 11]\n"
     ]
    }
   ],
   "source": [
    "def merge(arr, low, mid, high):\n",
    "    temp = []\n",
    "    left = low\n",
    "    right = mid + 1\n",
    "    while left <= mid and right <= high:\n",
    "        if arr[left] <= arr[right]:\n",
    "            temp.append(arr[left])\n",
    "            left += 1\n",
    "        else:\n",
    "            temp.append(arr[right])\n",
    "            right += 1\n",
    "    while left <= mid:\n",
    "        temp.append(arr[left])\n",
    "        left += 1\n",
    "    while right <= high:\n",
    "        temp.append(arr[right])\n",
    "        right += 1\n",
    "    for i in range(low, high + 1):\n",
    "        arr[i] = temp[i - low]\n",
    "\n",
    "\n",
    "def mergeSort(arr, low, high):\n",
    "    if low < high:\n",
    "        mid = (low + high) // 2\n",
    "        mergeSort(arr, low, mid)\n",
    "        mergeSort(arr, mid + 1, high)\n",
    "        merge(arr, low, mid, high)\n",
    "\n",
    "\n",
    "def findElements(a, n):\n",
    "    mergeSort(a, 0, n - 1)\n",
    "    print(a[0 : n - 2])\n",
    "\n",
    "\n",
    "findElements([12, 11, 13, 5, 6, 7], 6)"
   ]
  },
  {
   "cell_type": "code",
   "execution_count": null,
   "metadata": {},
   "outputs": [
    {
     "name": "stdout",
     "output_type": "stream",
     "text": [
      "42 84 126 168 210 252 294 336 378 420 "
     ]
    }
   ],
   "source": [
    "def getTable(N):\n",
    "    # code here\n",
    "    for i in range(1, 11):\n",
    "        print(i * N, end=\" \")\n",
    "\n",
    "\n",
    "getTable(42)"
   ]
  },
  {
   "cell_type": "code",
   "execution_count": 28,
   "metadata": {},
   "outputs": [
    {
     "data": {
      "text/plain": [
       "'practice'"
      ]
     },
     "execution_count": 28,
     "metadata": {},
     "output_type": "execute_result"
    }
   ],
   "source": [
    "def modify(s):\n",
    "    # code here\n",
    "    vowelsArr = [char for char in s if char in \"aeiou\"]\n",
    "    counter = len(vowelsArr) - 1\n",
    "    for i in range(len(vowelsArr)):\n",
    "        s.replace(vowelsArr[i], vowelsArr[counter], 1)\n",
    "    return s\n",
    "\n",
    "\n",
    "modify(\"practice\")"
   ]
  },
  {
   "cell_type": "code",
   "execution_count": 32,
   "metadata": {},
   "outputs": [
    {
     "data": {
      "text/plain": [
       "'geeksforgeeks'"
      ]
     },
     "execution_count": 32,
     "metadata": {},
     "output_type": "execute_result"
    }
   ],
   "source": [
    "def modify2(s):\n",
    "    vowels = \"aeiouAEIOU\"\n",
    "    s_list = list(s)\n",
    "    left, right = 0, len(s) - 1\n",
    "\n",
    "    while left < right:\n",
    "        # Move left pointer until we find a vowel\n",
    "        while left < right and s_list[left] not in vowels:\n",
    "            left += 1\n",
    "\n",
    "        # Move right pointer until we find a vowel\n",
    "        while left < right and s_list[right] not in vowels:\n",
    "            right -= 1\n",
    "\n",
    "        s_list[left], s_list[right] = s_list[right], s_list[left]\n",
    "        left += 1\n",
    "        right -= 1\n",
    "\n",
    "    return \"\".join(s_list)\n",
    "\n",
    "\n",
    "modify2(\"geeksforgeeks\")"
   ]
  },
  {
   "cell_type": "code",
   "execution_count": 37,
   "metadata": {},
   "outputs": [
    {
     "name": "stdout",
     "output_type": "stream",
     "text": [
      "['a', 'b', 'c', ' ', 'a', 'b', 's']\n",
      "Abc Abs\n"
     ]
    }
   ],
   "source": [
    "def transform(s):\n",
    "    # code here\n",
    "    s_new = list(s)\n",
    "    for index in range(len(s)):\n",
    "        if index == 0:\n",
    "            s_new[index] = s_new[index].upper()\n",
    "            continue\n",
    "        if s_new[index] == \" \":\n",
    "            s_new[index + 1] = s_new[index + 1].upper()\n",
    "    return \"\".join(s_new)\n",
    "\n",
    "\n",
    "print(transform(\"abc abs\"))"
   ]
  },
  {
   "cell_type": "code",
   "execution_count": 45,
   "metadata": {},
   "outputs": [
    {
     "data": {
      "text/plain": [
       "3"
      ]
     },
     "execution_count": 45,
     "metadata": {},
     "output_type": "execute_result"
    }
   ],
   "source": [
    "def leftElement(arr, n):\n",
    "    arr.sort()\n",
    "    return arr[(n - 1) // 2]\n",
    "\n",
    "\n",
    "leftElement([1, 1, 2, 2, 3, 4, 5, 5, 6, 7], 10)"
   ]
  },
  {
   "cell_type": "code",
   "execution_count": 49,
   "metadata": {},
   "outputs": [
    {
     "data": {
      "text/plain": [
       "'wlcm t gksfrgks'"
      ]
     },
     "execution_count": 49,
     "metadata": {},
     "output_type": "execute_result"
    }
   ],
   "source": [
    "def removeVowels(S):\n",
    "    s_new = [char for char in S if char not in \"aeiou\"]\n",
    "    return \"\".join(s_new)\n",
    "\n",
    "\n",
    "removeVowels(\"welcome to geeksforgeeks\")"
   ]
  },
  {
   "cell_type": "code",
   "execution_count": null,
   "metadata": {},
   "outputs": [],
   "source": [
    "def factorial(n):\n",
    "    if n == 0:\n",
    "        return 1\n",
    "    else:\n",
    "        return n * factorial(n - 1)\n",
    "\n",
    "\n",
    "def nPr(n, r):\n",
    "    return factorial(n) / factorial(n - r)"
   ]
  },
  {
   "cell_type": "code",
   "execution_count": 66,
   "metadata": {},
   "outputs": [
    {
     "name": "stdout",
     "output_type": "stream",
     "text": [
      "202\n"
     ]
    }
   ],
   "source": [
    "class Solution:\n",
    "    def sum(self, n, count):\n",
    "        if count == 0:\n",
    "            return -1\n",
    "        while count > 0:\n",
    "            if (\n",
    "                str(int(str(n)) + int(str(n)[::-1]))\n",
    "                == str(int(str(n)) + int(str(n)[::-1]))[::-1]\n",
    "            ):\n",
    "                return int(str(n)) + int(str(n)[::-1])\n",
    "            else:\n",
    "                return self.sum(int(str(n)) + int(str(n)[::-1]), count - 1)\n",
    "\n",
    "    def isSumPalindrome(self, n):\n",
    "        # code here\n",
    "        maxCount = 5\n",
    "        return self.sum(n, maxCount)\n",
    "\n",
    "\n",
    "solution = Solution()\n",
    "print(solution.isSumPalindrome(101))"
   ]
  },
  {
   "cell_type": "code",
   "execution_count": 68,
   "metadata": {},
   "outputs": [
    {
     "name": "stdout",
     "output_type": "stream",
     "text": [
      "[10.0, 10.0, 10.0, 10.0, 10.0, 10.0]\n"
     ]
    }
   ],
   "source": [
    "def streamAvg(arr, n):\n",
    "    sum_ = 0\n",
    "    averages = []\n",
    "\n",
    "    for i in range(n):\n",
    "        sum_ += arr[i]\n",
    "        averages.append(sum_ / (i + 1))\n",
    "\n",
    "    return averages\n",
    "\n",
    "\n",
    "print(streamAvg([10, 20, 30, 40, 50, 60], 6))"
   ]
  },
  {
   "cell_type": "code",
   "execution_count": 70,
   "metadata": {},
   "outputs": [
    {
     "name": "stdout",
     "output_type": "stream",
     "text": [
      "False\n"
     ]
    }
   ],
   "source": [
    "def check(s):\n",
    "    # your code here\n",
    "    new_s = list(s)\n",
    "    tests = []\n",
    "    for i in range(len(new_s)):\n",
    "        if new_s[0] == new_s[i]:\n",
    "            tests.append(True)\n",
    "        else:\n",
    "            tests.append(False)\n",
    "    return all(tests)\n",
    "\n",
    "\n",
    "print(check(\"abcda\"))"
   ]
  },
  {
   "cell_type": "code",
   "execution_count": 72,
   "metadata": {},
   "outputs": [
    {
     "name": "stdout",
     "output_type": "stream",
     "text": [
      "False\n"
     ]
    }
   ],
   "source": [
    "def check(s):\n",
    "    # your code here\n",
    "    n = len(s) - 1\n",
    "    while s[0] == s[n] and n >= 0:\n",
    "        n = n - 1\n",
    "    if n == -1:\n",
    "        return True\n",
    "    else:\n",
    "        return False\n",
    "\n",
    "\n",
    "print(check(\"abcda\"))"
   ]
  },
  {
   "cell_type": "code",
   "execution_count": 75,
   "metadata": {},
   "outputs": [
    {
     "name": "stdout",
     "output_type": "stream",
     "text": [
      "[1, 2]\n"
     ]
    }
   ],
   "source": [
    "def scores(a, b, cc):\n",
    "    # Update list cc of length 2 with cc[0] = ca and cc[1] = cb\n",
    "    # Your code goes here\n",
    "    score_a = 0\n",
    "    score_b = 0\n",
    "\n",
    "    for i in range(3):\n",
    "        if a[i] > b[i]:\n",
    "            score_a += 1\n",
    "        elif a[i] < b[i]:\n",
    "            score_b += 1\n",
    "    cc = [score_a, score_b]\n",
    "    print(cc)\n",
    "\n",
    "\n",
    "scores([4, 2, 7], [5, 6, 3], [])"
   ]
  },
  {
   "cell_type": "code",
   "execution_count": 78,
   "metadata": {},
   "outputs": [
    {
     "name": "stdout",
     "output_type": "stream",
     "text": [
      "Less than 5\n"
     ]
    }
   ],
   "source": [
    "def compareFive(N):\n",
    "    # code here\n",
    "    if N > 5:\n",
    "        print(\"Greater than 5\")\n",
    "    elif N < 5:\n",
    "        print(\"Less than 5\")\n",
    "    else:\n",
    "        print(\"Equal to 5\")\n",
    "\n",
    "\n",
    "compareFive(2)"
   ]
  },
  {
   "cell_type": "code",
   "execution_count": null,
   "metadata": {},
   "outputs": [],
   "source": [
    "def average(A, N):\n",
    "    sum = 0\n",
    "    for i in range(len(A)):\n",
    "        sum = sum + A[i]\n",
    "\n",
    "    return str(float(sum / len(A)))"
   ]
  },
  {
   "cell_type": "code",
   "execution_count": 3,
   "metadata": {},
   "outputs": [
    {
     "name": "stdout",
     "output_type": "stream",
     "text": [
      "59\n",
      " minute to seven\n"
     ]
    }
   ],
   "source": [
    "class Solution:\n",
    "    def num_to_words(self, num):\n",
    "        num_words = {\n",
    "            0: \"zero\",\n",
    "            1: \"one\",\n",
    "            2: \"two\",\n",
    "            3: \"three\",\n",
    "            4: \"four\",\n",
    "            5: \"five\",\n",
    "            6: \"six\",\n",
    "            7: \"seven\",\n",
    "            8: \"eight\",\n",
    "            9: \"nine\",\n",
    "            10: \"ten\",\n",
    "            11: \"eleven\",\n",
    "            12: \"twelve\",\n",
    "            13: \"thirteen\",\n",
    "            14: \"fourteen\",\n",
    "            15: \"quarter\",\n",
    "            16: \"sixteen\",\n",
    "            17: \"seventeen\",\n",
    "            18: \"eighteen\",\n",
    "            19: \"nineteen\",\n",
    "            20: \"twenty\",\n",
    "            21: \"twenty one\",\n",
    "            22: \"twenty two\",\n",
    "            23: \"twenty three\",\n",
    "            24: \"twenty four\",\n",
    "            25: \"twenty five\",\n",
    "            26: \"twenty six\",\n",
    "            27: \"twenty seven\",\n",
    "            28: \"twenty eight\",\n",
    "            29: \"twenty nine\",\n",
    "            30: \"half\",\n",
    "        }\n",
    "        return num_words.get(num, \"\")\n",
    "\n",
    "    def timeToWord(self, H, M):\n",
    "        if M == 0:\n",
    "            return self.num_to_words(H) + \" o' clock\"\n",
    "        if M == 15:\n",
    "            return \"quarter past \" + self.num_to_words(H)\n",
    "        if M == 30:\n",
    "            return \"half past \" + self.num_to_words(H)\n",
    "        if M == 45:\n",
    "            H = H + 1 if H < 12 else 1\n",
    "            return \"quarter to \" + self.num_to_words(H)\n",
    "        if M == 1:\n",
    "            return self.num_to_words(1)+ \" minute past \"+ self.num_to_words(H)\n",
    "        if M == 59:            \n",
    "            H = H + 1 if H < 12 else 1\n",
    "            print(M)\n",
    "            return self.num_to_words(1) +\" minute to \"+self.num_to_words(H+1)\n",
    "        if M < 30:\n",
    "            return self.num_to_words(M)+ \" minutes past \"+self.num_to_words(H)\n",
    "        else:\n",
    "            H = H + 1 if H < 12 else 1\n",
    "            return self.num_to_words(60 - M)+\" minutes to \"+self.num_to_words(H)\n",
    "\n",
    "\n",
    "\n",
    "solution = Solution()\n",
    "print(solution.timeToWord(5, 59))\n"
   ]
  },
  {
   "cell_type": "code",
   "execution_count": 7,
   "metadata": {},
   "outputs": [
    {
     "data": {
      "text/plain": [
       "0"
      ]
     },
     "execution_count": 7,
     "metadata": {},
     "output_type": "execute_result"
    }
   ],
   "source": [
    "def find(A, B):\n",
    "    dot_product = (A[0] * B[0]) + (A[1] * B[1]) + (A[2] * B[2])\n",
    "    \n",
    "    i = A[1] * B[2] - A[2] * B[1]\n",
    "    j = A[2] * B[0] - A[0] * B[2]\n",
    "    k = A[0] * B[1] - A[1] * B[0]\n",
    "    \n",
    "    cross_product_square = i**2 + j**2 + k**2\n",
    "    \n",
    "    if cross_product_square == 0:\n",
    "        return 1\n",
    "    elif dot_product == 0:\n",
    "        return 2\n",
    "    else:\n",
    "        return 0 \n",
    "\n",
    "find([10 ,9 ,5], [2 ,6 ,1])\n",
    "     \n"
   ]
  },
  {
   "cell_type": "code",
   "execution_count": 16,
   "metadata": {},
   "outputs": [
    {
     "data": {
      "text/plain": [
       "'47A408'"
      ]
     },
     "execution_count": 16,
     "metadata": {},
     "output_type": "execute_result"
    }
   ],
   "source": [
    "def getNumber(B, N):\n",
    "    if N == 0:\n",
    "        return 0\n",
    "    remaider = []\n",
    "    while N > 0:\n",
    "        if N % B < 9:\n",
    "            remaider.append(N % B)\n",
    "        elif N % B == 10:\n",
    "            remaider.append('A')\n",
    "        elif N % B == 11:\n",
    "            remaider.append('B')\n",
    "        elif N % B == 12:\n",
    "            remaider.append('C')\n",
    "        elif N % B == 13:\n",
    "            remaider.append('D')\n",
    "        elif N % B == 14:\n",
    "            remaider.append('E')\n",
    "        elif N % B == 15:\n",
    "            remaider.append('F')\n",
    "            \n",
    "        N = N // B\n",
    "    return ''.join(map(str, remaider[::-1]))\n",
    "\n",
    "getNumber(11, 760493)\n",
    "    "
   ]
  },
  {
   "cell_type": "code",
   "execution_count": 20,
   "metadata": {},
   "outputs": [
    {
     "name": "stdout",
     "output_type": "stream",
     "text": [
      "6\n"
     ]
    }
   ],
   "source": [
    "def mulClock( num1, num2):\n",
    "    if num1 == 0 or num2 == 0:\n",
    "        return 0\n",
    "    return 12 if num1*num2%12 ==0 else num1*num2%12\n",
    "\n",
    "print(mulClock(3, 10))"
   ]
  }
 ],
 "metadata": {
  "kernelspec": {
   "display_name": "python_practice",
   "language": "python",
   "name": "python3"
  },
  "language_info": {
   "codemirror_mode": {
    "name": "ipython",
    "version": 3
   },
   "file_extension": ".py",
   "mimetype": "text/x-python",
   "name": "python",
   "nbconvert_exporter": "python",
   "pygments_lexer": "ipython3",
   "version": "3.12.2"
  }
 },
 "nbformat": 4,
 "nbformat_minor": 2
}
