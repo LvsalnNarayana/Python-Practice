{
 "cells": [
  {
   "cell_type": "code",
   "execution_count": 1,
   "metadata": {},
   "outputs": [
    {
     "name": "stdout",
     "output_type": "stream",
     "text": [
      "%a (Weekday, short version): Mon\n",
      "%A (Weekday, full version): Monday\n",
      "%w (Weekday as a number 0-6, 0 is Sunday): 1\n",
      "%d (Day of month 01-31): 31\n",
      "%b (Month name, short version): Dec\n",
      "%B (Month name, full version): December\n",
      "%m (Month as a number 01-12): 12\n",
      "%y (Year, short version, without century): 18\n",
      "%Y (Year, full version): 2018\n",
      "%H (Hour 00-23): 17\n",
      "%I (Hour 00-12): 05\n",
      "%p (AM/PM): PM\n",
      "%M (Minute 00-59): 41\n",
      "%S (Second 00-59): 00\n",
      "%f (Microsecond 000000-999999): 548513\n",
      "%z (UTC offset): \n",
      "%Z (Timezone): \n",
      "%j (Day number of year 001-366): 365\n",
      "%U (Week number of year, Sunday as the first day of week, 00-53): 52\n",
      "%W (Week number of year, Monday as the first day of week, 00-53): 53\n",
      "%c (Local version of date and time): Mon Dec 31 17:41:00 2018\n",
      "%C (Century): 20\n",
      "%x (Local version of date): 12/31/18\n",
      "%X (Local version of time): 17:41:00\n",
      "%% (A % character): %\n",
      "%G (ISO 8601 year): 2019\n",
      "%u (ISO 8601 weekday (1-7)): 1\n",
      "%V (ISO 8601 weeknumber (01-53)): 01\n"
     ]
    }
   ],
   "source": [
    "from datetime import datetime\n",
    "\n",
    "# Creating a datetime object for Dec 31, 2018, 17:41:00.548513\n",
    "dt = datetime(2018, 12, 31, 17, 41, 0, 548513)\n",
    "\n",
    "print(\"%a (Weekday, short version):\", dt.strftime('%a'))  # Wed\n",
    "print(\"%A (Weekday, full version):\", dt.strftime('%A'))  # Wednesday\n",
    "print(\"%w (Weekday as a number 0-6, 0 is Sunday):\", dt.strftime('%w'))  # 1 (Monday)\n",
    "print(\"%d (Day of month 01-31):\", dt.strftime('%d'))  # 31\n",
    "print(\"%b (Month name, short version):\", dt.strftime('%b'))  # Dec\n",
    "print(\"%B (Month name, full version):\", dt.strftime('%B'))  # December\n",
    "print(\"%m (Month as a number 01-12):\", dt.strftime('%m'))  # 12\n",
    "print(\"%y (Year, short version, without century):\", dt.strftime('%y'))  # 18\n",
    "print(\"%Y (Year, full version):\", dt.strftime('%Y'))  # 2018\n",
    "print(\"%H (Hour 00-23):\", dt.strftime('%H'))  # 17\n",
    "print(\"%I (Hour 00-12):\", dt.strftime('%I'))  # 05\n",
    "print(\"%p (AM/PM):\", dt.strftime('%p'))  # PM\n",
    "print(\"%M (Minute 00-59):\", dt.strftime('%M'))  # 41\n",
    "print(\"%S (Second 00-59):\", dt.strftime('%S'))  # 00\n",
    "print(\"%f (Microsecond 000000-999999):\", dt.strftime('%f'))  # 548513\n",
    "print(\"%z (UTC offset):\", dt.strftime('%z'))  # Empty if timezone is naive\n",
    "print(\"%Z (Timezone):\", dt.strftime('%Z'))  # Empty if timezone is naive\n",
    "print(\"%j (Day number of year 001-366):\", dt.strftime('%j'))  # 365\n",
    "print(\"%U (Week number of year, Sunday as the first day of week, 00-53):\", dt.strftime('%U'))  # 52\n",
    "print(\"%W (Week number of year, Monday as the first day of week, 00-53):\", dt.strftime('%W'))  # 52\n",
    "print(\"%c (Local version of date and time):\", dt.strftime('%c'))  # Mon Dec 31 17:41:00 2018\n",
    "print(\"%C (Century):\", dt.strftime('%C'))  # 20\n",
    "print(\"%x (Local version of date):\", dt.strftime('%x'))  # 12/31/18\n",
    "print(\"%X (Local version of time):\", dt.strftime('%X'))  # 17:41:00\n",
    "print(\"%% (A % character):\", dt.strftime('%%'))  # %\n",
    "print(\"%G (ISO 8601 year):\", dt.strftime('%G'))  # 2019 (because the ISO week belongs to the previous year)\n",
    "print(\"%u (ISO 8601 weekday (1-7)):\", dt.strftime('%u'))  # 1 (Monday)\n",
    "print(\"%V (ISO 8601 weeknumber (01-53)):\", dt.strftime('%V'))  # 01\n"
   ]
  }
 ],
 "metadata": {
  "kernelspec": {
   "display_name": "Python 3",
   "language": "python",
   "name": "python3"
  },
  "language_info": {
   "codemirror_mode": {
    "name": "ipython",
    "version": 3
   },
   "file_extension": ".py",
   "mimetype": "text/x-python",
   "name": "python",
   "nbconvert_exporter": "python",
   "pygments_lexer": "ipython3",
   "version": "3.12.2"
  }
 },
 "nbformat": 4,
 "nbformat_minor": 2
}
