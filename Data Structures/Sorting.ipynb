{
 "cells": [
  {
   "cell_type": "code",
   "execution_count": 4,
   "metadata": {},
   "outputs": [
    {
     "name": "stdout",
     "output_type": "stream",
     "text": [
      "<class 'tuple'>\n"
     ]
    }
   ],
   "source": [
    "def swap(x: int, y: int):\n",
    "    temp = x\n",
    "    x = y\n",
    "    y = temp\n",
    "    return x, y\n",
    "\n",
    "\n",
    "test = swap(10, 20)\n"
   ]
  },
  {
   "cell_type": "markdown",
   "metadata": {},
   "source": [
    "# Selection Sort\n",
    "\n",
    "**Principle** : Select minimums and swap\n"
   ]
  },
  {
   "cell_type": "code",
   "execution_count": 40,
   "metadata": {},
   "outputs": [
    {
     "name": "stdout",
     "output_type": "stream",
     "text": [
      "[0, 1, 2, 3, 4, 6, 7, 8, 12, 20, 23, 24, 29]\n"
     ]
    }
   ],
   "source": [
    "def selectionSort(array):\n",
    "    for i in range(len(array) - 1):\n",
    "        min = i\n",
    "        for j in range(i + 1, len(array)):\n",
    "            if array[j] < array[min]:\n",
    "                min = j\n",
    "        array[i], array[min] = array[min], array[i]\n",
    "    return array\n",
    "\n",
    "\n",
    "print(selectionSort([3, 1, 6, 8, 2, 4, 7, 20, 29, 23, 24, 12, 0]))\n"
   ]
  },
  {
   "cell_type": "markdown",
   "metadata": {},
   "source": [
    "# Bubble Sort\n",
    "\n",
    "**Principle** : Push the max to last by adjacent swapping\n"
   ]
  },
  {
   "cell_type": "code",
   "execution_count": 56,
   "metadata": {},
   "outputs": [
    {
     "name": "stdout",
     "output_type": "stream",
     "text": [
      "[0, 1, 2, 3, 4, 6, 7, 8, 12, 20, 23, 24, 29]\n"
     ]
    }
   ],
   "source": [
    "def bubbleSort(array):\n",
    "    for i in range(len(array) - 1, -1, -1):\n",
    "        for j in range(i):\n",
    "            if array[j] > array[j + 1]:\n",
    "                array[j], array[j + 1] = array[j + 1], array[j]\n",
    "    return array\n",
    "\n",
    "\n",
    "print(bubbleSort([3, 1, 6, 8, 2, 4, 7, 20, 29, 23, 24, 12, 0]))\n"
   ]
  },
  {
   "cell_type": "markdown",
   "metadata": {},
   "source": [
    "# Insertion Sort\n",
    "\n",
    "**Principle** : Takes an element and place it in the correct order\n"
   ]
  },
  {
   "cell_type": "code",
   "execution_count": 76,
   "metadata": {},
   "outputs": [
    {
     "name": "stdout",
     "output_type": "stream",
     "text": [
      "[0, 1, 2, 3, 4, 6, 7, 8, 12, 20, 23, 24, 29]\n"
     ]
    }
   ],
   "source": [
    "def insertionSort(array):\n",
    "    for i in range(len(array) - 1):\n",
    "        j = i\n",
    "        while j >= 0 and array[j + 1] < array[j]:\n",
    "            array[j + 1], array[j] = array[j], array[j + 1]\n",
    "            j -= 1\n",
    "    return array\n",
    "\n",
    "\n",
    "print(insertionSort([3, 1, 6, 8, 2, 4, 7, 20, 29, 23, 24, 12, 0]))\n"
   ]
  }
 ],
 "metadata": {
  "kernelspec": {
   "display_name": "python_practice",
   "language": "python",
   "name": "python3"
  },
  "language_info": {
   "codemirror_mode": {
    "name": "ipython",
    "version": 3
   },
   "file_extension": ".py",
   "mimetype": "text/x-python",
   "name": "python",
   "nbconvert_exporter": "python",
   "pygments_lexer": "ipython3",
   "version": "3.12.2"
  }
 },
 "nbformat": 4,
 "nbformat_minor": 2
}
