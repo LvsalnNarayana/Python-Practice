{
 "cells": [
  {
   "cell_type": "markdown",
   "metadata": {},
   "source": [
    "# Selection Sort\n",
    "\n",
    "**Principle** : Select minimums and swap\n"
   ]
  },
  {
   "cell_type": "code",
   "execution_count": 56,
   "metadata": {},
   "outputs": [
    {
     "name": "stdout",
     "output_type": "stream",
     "text": [
      "[0, 1, 2, 3, 4, 6, 7, 8, 12, 20, 23, 24, 29]\n"
     ]
    }
   ],
   "source": [
    "def selectionSort(array):\n",
    "    for i in range(len(array) - 1):\n",
    "        min = i\n",
    "        for j in range(i + 1, len(array)):\n",
    "            if array[j] < array[min]:\n",
    "                min = j\n",
    "        array[i], array[min] = array[min], array[i]\n",
    "    return array\n",
    "\n",
    "\n",
    "print(selectionSort([3, 1, 6, 8, 2, 4, 7, 20, 29, 23, 24, 12, 0]))"
   ]
  },
  {
   "cell_type": "markdown",
   "metadata": {},
   "source": [
    "# Bubble Sort\n",
    "\n",
    "**Principle** : Push the max to last by adjacent swapping\n"
   ]
  },
  {
   "cell_type": "code",
   "execution_count": 57,
   "metadata": {},
   "outputs": [
    {
     "name": "stdout",
     "output_type": "stream",
     "text": [
      "[0, 1, 2, 3, 4, 6, 7, 8, 12, 20, 23, 24, 29]\n"
     ]
    }
   ],
   "source": [
    "def bubbleSort(array):\n",
    "    for i in range(len(array) - 1, -1, -1):\n",
    "        for j in range(i):\n",
    "            if array[j] > array[j + 1]:\n",
    "                array[j], array[j + 1] = array[j + 1], array[j]\n",
    "    return array\n",
    "\n",
    "\n",
    "print(bubbleSort([3, 1, 6, 8, 2, 4, 7, 20, 29, 23, 24, 12, 0]))"
   ]
  },
  {
   "cell_type": "markdown",
   "metadata": {},
   "source": [
    "# Insertion Sort\n",
    "\n",
    "**Principle** : Takes an element and place it in the correct order\n"
   ]
  },
  {
   "cell_type": "code",
   "execution_count": 58,
   "metadata": {},
   "outputs": [
    {
     "name": "stdout",
     "output_type": "stream",
     "text": [
      "[0, 1, 2, 3, 4, 6, 7, 8, 12, 20, 23, 24, 29]\n"
     ]
    }
   ],
   "source": [
    "def insertionSort(array):\n",
    "    for i in range(len(array) - 1):\n",
    "        j = i\n",
    "        while j >= 0 and array[j + 1] < array[j]:\n",
    "            # SWAP Method\n",
    "            array[j + 1], array[j] = array[j], array[j + 1]\n",
    "            j -= 1\n",
    "    return array\n",
    "\n",
    "\n",
    "print(insertionSort([3, 1, 6, 8, 2, 4, 7, 20, 29, 23, 24, 12, 0]))"
   ]
  },
  {
   "cell_type": "markdown",
   "metadata": {},
   "source": [
    "# Merge Sort\n",
    "\n",
    "Divide and Merge\n"
   ]
  },
  {
   "cell_type": "code",
   "execution_count": 59,
   "metadata": {},
   "outputs": [
    {
     "name": "stdout",
     "output_type": "stream",
     "text": [
      "Sorted array: [0, 1, 2, 3, 4, 5, 6, 7]\n"
     ]
    }
   ],
   "source": [
    "def merge(array, low, mid, high):\n",
    "    temp = []\n",
    "    left = low\n",
    "    right = mid + 1\n",
    "\n",
    "    while left <= mid and right <= high:\n",
    "        if array[left] <= array[right]:\n",
    "            temp.append(array[left])\n",
    "            left += 1\n",
    "        else:\n",
    "            temp.append(array[right])\n",
    "            right += 1\n",
    "\n",
    "    while left <= mid:\n",
    "        temp.append(array[left])\n",
    "        left += 1\n",
    "\n",
    "    while right <= high:\n",
    "        temp.append(array[right])\n",
    "        right += 1\n",
    "\n",
    "    for i in range(low, high + 1):\n",
    "        array[i] = temp[i - low]\n",
    "\n",
    "\n",
    "def mergeSort(array, low, high):\n",
    "    if low < high:\n",
    "        mid = (low + high) // 2\n",
    "        mergeSort(array, low, mid)\n",
    "        mergeSort(array, mid + 1, high)\n",
    "        merge(array, low, mid, high)\n",
    "\n",
    "\n",
    "a = [1, 4, 2, 3, 5, 6, 7, 0]\n",
    "mergeSort(a, 0, len(a) - 1)\n",
    "print(\"Sorted array:\", a)"
   ]
  },
  {
   "cell_type": "markdown",
   "metadata": {},
   "source": [
    "# Quick Sort\n",
    "\n",
    "Pick up a pivot and place it in its correct place in the sorted array\n",
    "\n",
    "- smaller on the left\n",
    "- larger on the right\n",
    "\n",
    "**NOTE**\n",
    "\n",
    "pivot can be any element\n",
    "\n",
    "- 1st element in the array\n",
    "- last element in the array\n",
    "- Median of the earray\n",
    "- Random element in the array\n"
   ]
  },
  {
   "cell_type": "code",
   "execution_count": 60,
   "metadata": {},
   "outputs": [
    {
     "name": "stdout",
     "output_type": "stream",
     "text": [
      "[0, 1, 3, 3, 3, 4, 7, 9]\n"
     ]
    }
   ],
   "source": [
    "def findPartitionIndex(arr, low, high):\n",
    "    pivot = arr[low]\n",
    "    i = low + 1\n",
    "    j = high\n",
    "    while True:\n",
    "        while i <= j and arr[i] <= pivot:\n",
    "            i += 1\n",
    "        while i <= j and arr[j] > pivot:\n",
    "            j -= 1\n",
    "        if i < j:\n",
    "            arr[i], arr[j] = arr[j], arr[i]\n",
    "        else:\n",
    "            break\n",
    "    arr[low], arr[j] = arr[j], arr[low]\n",
    "    return j\n",
    "\n",
    "\n",
    "def quickSort(arr, low, high):\n",
    "    if low < high:\n",
    "        pivotIndex = findPartitionIndex(arr, low, high)\n",
    "        quickSort(arr, low, pivotIndex - 1)\n",
    "        quickSort(arr, pivotIndex + 1, high)\n",
    "    return arr\n",
    "\n",
    "\n",
    "print(quickSort([4, 1, 3, 3, 9, 7, 3, 0], 0, 7))"
   ]
  }
 ],
 "metadata": {
  "kernelspec": {
   "display_name": "python_practice",
   "language": "python",
   "name": "python3"
  },
  "language_info": {
   "codemirror_mode": {
    "name": "ipython",
    "version": 3
   },
   "file_extension": ".py",
   "mimetype": "text/x-python",
   "name": "python",
   "nbconvert_exporter": "python",
   "pygments_lexer": "ipython3",
   "version": "3.12.2"
  }
 },
 "nbformat": 4,
 "nbformat_minor": 2
}
