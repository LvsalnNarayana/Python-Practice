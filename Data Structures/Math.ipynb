{
 "cells": [
  {
   "cell_type": "markdown",
   "metadata": {},
   "source": [
    "### Get All Divisors of a Number\n"
   ]
  },
  {
   "cell_type": "code",
   "execution_count": 10,
   "metadata": {},
   "outputs": [
    {
     "data": {
      "text/plain": [
       "[1,\n",
       " 2,\n",
       " 11,\n",
       " 22,\n",
       " 23,\n",
       " 46,\n",
       " 253,\n",
       " 506,\n",
       " 525013,\n",
       " 1050026,\n",
       " 5775143,\n",
       " 11550286,\n",
       " 12075299,\n",
       " 24150598,\n",
       " 132828289,\n",
       " 265656578]"
      ]
     },
     "execution_count": 10,
     "metadata": {},
     "output_type": "execute_result"
    }
   ],
   "source": [
    "def getAllDivisors(x: int):\n",
    "    divisor_list = []\n",
    "    for i in range(1, x + 1):\n",
    "        if x % i == 0:\n",
    "            divisor_list.append(i)\n",
    "    return divisor_list\n",
    "\n",
    "\n",
    "getAllDivisors(265656578)"
   ]
  },
  {
   "cell_type": "markdown",
   "metadata": {},
   "source": [
    "### Get All Divisors of a Number by square root method\n"
   ]
  },
  {
   "cell_type": "code",
   "execution_count": 18,
   "metadata": {},
   "outputs": [
    {
     "name": "stdout",
     "output_type": "stream",
     "text": [
      "1\n",
      "2\n",
      "3\n",
      "4\n"
     ]
    },
    {
     "data": {
      "text/plain": [
       "[1, 2, 3, 4, 6, 9, 12, 18, 36]"
      ]
     },
     "execution_count": 18,
     "metadata": {},
     "output_type": "execute_result"
    }
   ],
   "source": [
    "import math\n",
    "\n",
    "\n",
    "def getAllDivisorsBySqrt(x: int):\n",
    "    divisor_list = []\n",
    "    for i in range(1, int(math.sqrt(x)) + 1):\n",
    "        if x % i == 0:\n",
    "            divisor_list.append(i)\n",
    "            if i != x // i:\n",
    "                divisor_list.append(x // i)\n",
    "    divisor_list.sort()\n",
    "    return divisor_list\n",
    "\n",
    "\n",
    "getAllDivisorsBySqrt(36)\n"
   ]
  },
  {
   "cell_type": "markdown",
   "metadata": {},
   "source": [
    "### Armstrong Number\n"
   ]
  },
  {
   "cell_type": "code",
   "execution_count": 12,
   "metadata": {},
   "outputs": [
    {
     "data": {
      "text/plain": [
       "True"
      ]
     },
     "execution_count": 12,
     "metadata": {},
     "output_type": "execute_result"
    }
   ],
   "source": [
    "def CheckArmstrongNumber(x: int):\n",
    "    testSum = 0\n",
    "    for i in str(x):\n",
    "        testSum += int(i) ** 3\n",
    "    return True if testSum == x else False\n",
    "\n",
    "\n",
    "CheckArmstrongNumber(153)\n"
   ]
  },
  {
   "cell_type": "markdown",
   "metadata": {},
   "source": [
    "### Check for Prime Number\n"
   ]
  },
  {
   "cell_type": "code",
   "execution_count": 13,
   "metadata": {},
   "outputs": [
    {
     "data": {
      "text/plain": [
       "False"
      ]
     },
     "execution_count": 13,
     "metadata": {},
     "output_type": "execute_result"
    }
   ],
   "source": [
    "def checkPrimeNumber(x: int):\n",
    "    counter = 0\n",
    "    for i in range(1, int(math.sqrt(x)) + 1):\n",
    "        if x % i == 0:\n",
    "            counter += 1\n",
    "            if i != x // i:\n",
    "                counter += 1\n",
    "    return True if counter == 2 else False\n",
    "\n",
    "\n",
    "checkPrimeNumber(153)\n"
   ]
  },
  {
   "cell_type": "markdown",
   "metadata": {},
   "source": [
    "### Check for Palindrome\n"
   ]
  },
  {
   "cell_type": "code",
   "execution_count": 31,
   "metadata": {},
   "outputs": [
    {
     "data": {
      "text/plain": [
       "True"
      ]
     },
     "execution_count": 31,
     "metadata": {},
     "output_type": "execute_result"
    }
   ],
   "source": [
    "def checkPalindrome(x: int):\n",
    "    originalNum = x\n",
    "    reverseNumber = 0\n",
    "    if x > 0:\n",
    "        reverseNumber = str(abs(x))[::-1]\n",
    "        return True if int(reverseNumber) == originalNum else False\n",
    "    else:\n",
    "        reverseNumber = str(abs(x))[::-1]\n",
    "        return True if -int(reverseNumber) == originalNum else False\n",
    "\n",
    "\n",
    "checkPalindrome(-15351)\n"
   ]
  },
  {
   "cell_type": "markdown",
   "metadata": {},
   "source": [
    "### Reverse a Number\n"
   ]
  },
  {
   "cell_type": "code",
   "execution_count": 34,
   "metadata": {},
   "outputs": [
    {
     "data": {
      "text/plain": [
       "-152351"
      ]
     },
     "execution_count": 34,
     "metadata": {},
     "output_type": "execute_result"
    }
   ],
   "source": [
    "def reverseNumber(x: int) -> int:\n",
    "    reverseNumber = 0\n",
    "    sign = 1 if x >= 0 else -1\n",
    "    x = abs(x)\n",
    "    while x != 0:\n",
    "        lastDigit = x % 10\n",
    "        x //= 10\n",
    "        reverseNumber = (reverseNumber * 10) + lastDigit\n",
    "    reverseNumber *= sign\n",
    "    # Handle overflow, assuming 32-bit signed integer range\n",
    "    if reverseNumber < -(2**31) or reverseNumber > 2**31 - 1:\n",
    "        return 0\n",
    "    return reverseNumber\n",
    "\n",
    "\n",
    "reverseNumber(-153251)\n"
   ]
  }
 ],
 "metadata": {
  "kernelspec": {
   "display_name": "python_practice",
   "language": "python",
   "name": "python3"
  },
  "language_info": {
   "codemirror_mode": {
    "name": "ipython",
    "version": 3
   },
   "file_extension": ".py",
   "mimetype": "text/x-python",
   "name": "python",
   "nbconvert_exporter": "python",
   "pygments_lexer": "ipython3",
   "version": "3.12.2"
  }
 },
 "nbformat": 4,
 "nbformat_minor": 2
}
